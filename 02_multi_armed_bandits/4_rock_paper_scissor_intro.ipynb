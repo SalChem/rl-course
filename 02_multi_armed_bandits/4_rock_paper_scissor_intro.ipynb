{
 "cells": [
  {
   "cell_type": "markdown",
   "metadata": {
    "toc": true
   },
   "source": [
    "<h1>Table of Contents<span class=\"tocSkip\"></span></h1>\n",
    "<div class=\"toc\"><ul class=\"toc-item\"><li><span><a href=\"#Rock,-Paper,-Scissors-Introduction\" data-toc-modified-id=\"Rock,-Paper,-Scissors-Introduction-1\">Rock, Paper, Scissors Introduction</a></span></li><li><span><a href=\"#By-The-End-Of-This-Session-You-Should-Be-Able-To:\" data-toc-modified-id=\"By-The-End-Of-This-Session-You-Should-Be-Able-To:-2\">By The End Of This Session You Should Be Able To:</a></span></li><li><span><a href=\"#Problem:-Get-λ-dog-to-obey-my-commands\" data-toc-modified-id=\"Problem:-Get-λ-dog-to-obey-my-commands-3\">Problem: Get λ dog to obey my commands</a></span></li><li><span><a href=\"#Reinforcement-Learning:-A-simple-definition\" data-toc-modified-id=\"Reinforcement-Learning:-A-simple-definition-4\">Reinforcement Learning: A simple definition</a></span></li><li><span><a href=\"#Student-Activity:-Rock-Paper-Scissors-Tournament\" data-toc-modified-id=\"Student-Activity:-Rock-Paper-Scissors-Tournament-5\">Student Activity: Rock Paper Scissors Tournament</a></span></li><li><span><a href=\"#Student-Activity:-Rock-Paper-Scissors-Tournament\" data-toc-modified-id=\"Student-Activity:-Rock-Paper-Scissors-Tournament-6\">Student Activity: Rock Paper Scissors Tournament</a></span></li><li><span><a href=\"#A-Game-Theory-take-on-Rock-Paper-Scissors:\" data-toc-modified-id=\"A-Game-Theory-take-on-Rock-Paper-Scissors:-7\">A Game Theory take on Rock Paper Scissors:</a></span></li><li><span><a href=\"#An-iterated-adversarial-zero-sum-two-person-game-of-perfect-information.\" data-toc-modified-id=\"An-iterated-adversarial-zero-sum-two-person-game-of-perfect-information.-8\">An iterated adversarial zero-sum two-person game of perfect information.</a></span></li><li><span><a href=\"#How-do-we-win-(at-least-not-lose)?\" data-toc-modified-id=\"How-do-we-win-(at-least-not-lose)?-9\">How do we win (at least not lose)?</a></span><ul class=\"toc-item\"><li><span><a href=\"#What-are-possible-strategies?\" data-toc-modified-id=\"What-are-possible-strategies?-9.1\">What are possible strategies?</a></span></li></ul></li><li><span><a href=\"#-What-happens-if-we-use-Deterministic-Strategy?\" data-toc-modified-id=\"-What-happens-if-we-use-Deterministic-Strategy?-10\"> What happens if we use Deterministic Strategy?</a></span></li><li><span><a href=\"#-What-happens-if-we-use-Random-Strategy?\" data-toc-modified-id=\"-What-happens-if-we-use-Random-Strategy?-11\"> What happens if we use Random Strategy?</a></span></li><li><span><a href=\"#-What-do-humans-tend-to-do?\" data-toc-modified-id=\"-What-do-humans-tend-to-do?-12\"> What do humans tend to do?</a></span></li><li><span><a href=\"#In-other-words,-there-may-be-patterns-that-we-can-detect-and-exploit-to-win-more-than-a-third-of-the-time.\" data-toc-modified-id=\"In-other-words,-there-may-be-patterns-that-we-can-detect-and-exploit-to-win-more-than-a-third-of-the-time.-13\">In other words, there may be patterns that we can detect and exploit to win more than a third of the time.</a></span></li><li><span><a href=\"#Generate-multiple-competing-pattern-recognition-strategies\" data-toc-modified-id=\"Generate-multiple-competing-pattern-recognition-strategies-14\">Generate multiple competing pattern recognition strategies</a></span></li><li><span><a href=\"#-How-can-we-choose-amongst-the-strategies?\" data-toc-modified-id=\"-How-can-we-choose-amongst-the-strategies?-15\"> How can we choose amongst the strategies?</a></span></li><li><span><a href=\"#Multi-armed-Bandit\" data-toc-modified-id=\"Multi-armed-Bandit-16\">Multi-armed Bandit</a></span></li><li><span><a href=\"#Helpful-Python-Skills\" data-toc-modified-id=\"Helpful-Python-Skills-17\">Helpful Python Skills</a></span></li><li><span><a href=\"#Summary\" data-toc-modified-id=\"Summary-18\">Summary</a></span></li></ul></div>"
   ]
  },
  {
   "cell_type": "markdown",
   "metadata": {
    "slideshow": {
     "slide_type": "slide"
    }
   },
   "source": [
    "<h2>Rock, Paper, Scissors Introduction</h2></center>\n"
   ]
  },
  {
   "cell_type": "markdown",
   "metadata": {
    "slideshow": {
     "slide_type": "slide"
    }
   },
   "source": [
    "By The End Of This Session You Should Be Able To:\n",
    "----\n",
    "\n",
    "- Play \"Rock, Paper, Scissors\"\n",
    "- Describe multiple strategies for \"Rock, Paper, Scissors\"\n",
    "- Explain how multi-arm bandits can help select amongst multiple strategies."
   ]
  },
  {
   "cell_type": "markdown",
   "metadata": {
    "slideshow": {
     "slide_type": "slide"
    }
   },
   "source": [
    "<center><h2>Problem: Get λ dog to obey my commands</h2></center>\n",
    "\n",
    "<center><img src=\"images/lambda_in_a_field.jpg\" width=\"75%\"/></center>"
   ]
  },
  {
   "cell_type": "markdown",
   "metadata": {
    "slideshow": {
     "slide_type": "slide"
    }
   },
   "source": [
    "What are possible strategies?"
   ]
  },
  {
   "cell_type": "markdown",
   "metadata": {
    "slideshow": {
     "slide_type": "fragment"
    }
   },
   "source": [
    "- Order: __DO IT!__\n",
    "- Positive Reinforcement:\n",
    "    - Bribe: Treats\n",
    "    - Praise: Good boy\n",
    "- Punishment: Do the wrong thing or not fast enough\n",
    "- Negative Reinforcement: remove negative stimulus\n",
    "- Repeat it over and over\n",
    "- Nothing:  "
   ]
  },
  {
   "cell_type": "markdown",
   "metadata": {
    "slideshow": {
     "slide_type": "slide"
    }
   },
   "source": [
    "<center><h2>Reinforcement Learning: A simple definition</h2></center>\n",
    "\n",
    "Randomly try strategies. "
   ]
  },
  {
   "cell_type": "markdown",
   "metadata": {
    "slideshow": {
     "slide_type": "fragment"
    }
   },
   "source": [
    " If they work, choose them more often. "
   ]
  },
  {
   "cell_type": "markdown",
   "metadata": {
    "slideshow": {
     "slide_type": "slide"
    }
   },
   "source": [
    " <center><img src=\"images/errror.jpg\" width=\"75%\"/></center>"
   ]
  },
  {
   "cell_type": "markdown",
   "metadata": {
    "slideshow": {
     "slide_type": "slide"
    }
   },
   "source": [
    "<center><img src=\"images/300px-Rock-paper-scissors.svg.png\" width=\"75%\"/></center>"
   ]
  },
  {
   "cell_type": "markdown",
   "metadata": {
    "slideshow": {
     "slide_type": "slide"
    }
   },
   "source": [
    "<center><h2>Student Activity: Rock Paper Scissors Tournament</h2></center>"
   ]
  },
  {
   "cell_type": "code",
   "execution_count": 1,
   "metadata": {
    "slideshow": {
     "slide_type": "fragment"
    }
   },
   "outputs": [
    {
     "data": {
      "image/jpeg": "[encoded data removed]",
      "text/html": [
       "\n",
       "        <iframe\n",
       "            width=\"400\"\n",
       "            height=\"300\"\n",
       "            src=\"https://www.youtube.com/embed/RUOUrSB2zI4\"\n",
       "            frameborder=\"0\"\n",
       "            allowfullscreen\n",
       "        ></iframe>\n",
       "        "
      ],
      "text/plain": [
       "<IPython.lib.display.YouTubeVideo at 0x103446128>"
      ]
     },
     "execution_count": 1,
     "metadata": {},
     "output_type": "execute_result"
    }
   ],
   "source": [
    "from IPython.display import YouTubeVideo\n",
    "\n",
    "# 3 rings\n",
    "YouTubeVideo('RUOUrSB2zI4')"
   ]
  },
  {
   "cell_type": "markdown",
   "metadata": {
    "slideshow": {
     "slide_type": "skip"
    }
   },
   "source": [
    "[Official Rules](https://www.wrpsa.com/the-official-rules-of-rock-paper-scissors/)"
   ]
  },
  {
   "cell_type": "markdown",
   "metadata": {
    "slideshow": {
     "slide_type": "slide"
    }
   },
   "source": [
    "<center><h2>Student Activity: Rock Paper Scissors Tournament</h2></center>\n",
    "\n",
    "1. Pair off\n",
    "1. Play best out of 3\n",
    "1. Winners challenge other winners until there is just one"
   ]
  },
  {
   "cell_type": "markdown",
   "metadata": {
    "slideshow": {
     "slide_type": "slide"
    }
   },
   "source": [
    " <center><h2>A Game Theory take on Rock Paper Scissors:</h2></center>"
   ]
  },
  {
   "cell_type": "markdown",
   "metadata": {
    "slideshow": {
     "slide_type": "slide"
    }
   },
   "source": [
    " <center><h2>An iterated adversarial zero-sum two-person game of perfect information.</h2></center>"
   ]
  },
  {
   "cell_type": "code",
   "execution_count": 2,
   "metadata": {
    "slideshow": {
     "slide_type": "slide"
    }
   },
   "outputs": [],
   "source": [
    "# The scoring logic is easily encoded in a Python dictionary.\n",
    "scorer = dict(SP=1, PR=1, RS=1, \n",
    "              PS=-1, RP=-1, SR=-1, \n",
    "              SS=0, PP=0, RR=0)"
   ]
  },
  {
   "cell_type": "code",
   "execution_count": 3,
   "metadata": {
    "slideshow": {
     "slide_type": "fragment"
    }
   },
   "outputs": [
    {
     "data": {
      "text/plain": [
       "1"
      ]
     },
     "execution_count": 3,
     "metadata": {},
     "output_type": "execute_result"
    }
   ],
   "source": [
    "scorer['RS'] # 1 meaning Rock cuts Scissors is +1 for the first player. "
   ]
  },
  {
   "cell_type": "markdown",
   "metadata": {
    "slideshow": {
     "slide_type": "slide"
    }
   },
   "source": [
    "<center><h2>How do we win (at least not lose)?</h2></center> \n",
    "\n",
    "### What are possible strategies?"
   ]
  },
  {
   "cell_type": "markdown",
   "metadata": {
    "slideshow": {
     "slide_type": "slide"
    }
   },
   "source": [
    "<center><h2> What happens if we use Deterministic Strategy?</h2></center>"
   ]
  },
  {
   "cell_type": "markdown",
   "metadata": {
    "slideshow": {
     "slide_type": "fragment"
    }
   },
   "source": [
    "Playing completely predictable, you will always lose."
   ]
  },
  {
   "cell_type": "markdown",
   "metadata": {
    "slideshow": {
     "slide_type": "slide"
    }
   },
   "source": [
    "<center><h2> What happens if we use Random Strategy?</h2></center>"
   ]
  },
  {
   "cell_type": "markdown",
   "metadata": {
    "slideshow": {
     "slide_type": "fragment"
    }
   },
   "source": [
    "Playing randomly assures that we lose no more than one-third of the time, regardless of our opponent’s strategy."
   ]
  },
  {
   "cell_type": "markdown",
   "metadata": {
    "slideshow": {
     "slide_type": "slide"
    }
   },
   "source": [
    " <center><h2> What do humans tend to do?</h2></center>"
   ]
  },
  {
   "cell_type": "markdown",
   "metadata": {
    "slideshow": {
     "slide_type": "fragment"
    }
   },
   "source": [
    "Humans tend to be influenced by the last play.\n",
    "\n",
    "Propensity to select rock after playing scissors.\n",
    "\n",
    "If we play paper, they often select scissors on the next round."
   ]
  },
  {
   "cell_type": "markdown",
   "metadata": {
    "slideshow": {
     "slide_type": "slide"
    }
   },
   "source": [
    "<center><h2>In other words, there may be patterns that we can detect and exploit to win more than a third of the time.</h2></center>"
   ]
  },
  {
   "cell_type": "markdown",
   "metadata": {
    "slideshow": {
     "slide_type": "fragment"
    }
   },
   "source": [
    " <center><h2>Generate multiple competing pattern recognition strategies</h2></center>"
   ]
  },
  {
   "cell_type": "markdown",
   "metadata": {
    "slideshow": {
     "slide_type": "slide"
    }
   },
   "source": [
    "<center><h2> How can we choose amongst the strategies?</h2></center>"
   ]
  },
  {
   "cell_type": "markdown",
   "metadata": {
    "slideshow": {
     "slide_type": "fragment"
    }
   },
   "source": [
    "<center><img src=\"images/arms.png\" width=\"75%\"/></center>\n",
    "\n",
    "<center><h2>Multi-armed Bandit</h2></center>"
   ]
  },
  {
   "cell_type": "markdown",
   "metadata": {
    "slideshow": {
     "slide_type": "slide"
    }
   },
   "source": [
    "```python\n",
    "# Core logic:\n",
    "for trial in range(trials):\n",
    "\n",
    "    # 1. Choose our move\n",
    "  \n",
    "    # 2. Get opponent's move\n",
    "\n",
    "    # 3. Determine the winner\n",
    "    \n",
    "    # 4. Update move history and strategy weights\n",
    "```"
   ]
  },
  {
   "cell_type": "markdown",
   "metadata": {
    "slideshow": {
     "slide_type": "slide"
    }
   },
   "source": [
    " <center><h2>Helpful Python Skills</h2></center>"
   ]
  },
  {
   "cell_type": "code",
   "execution_count": 4,
   "metadata": {
    "slideshow": {
     "slide_type": "fragment"
    }
   },
   "outputs": [
    {
     "data": {
      "text/plain": [
       "['R', 'P', 'R', 'P', 'S', 'R', 'P', 'S']"
      ]
     },
     "execution_count": 4,
     "metadata": {},
     "output_type": "execute_result"
    }
   ],
   "source": [
    "# Links multiple iterables into one (kinda like flatten list)\n",
    "\n",
    "from itertools import chain\n",
    "\n",
    "list(chain('RPRPS', 'RPS'))"
   ]
  },
  {
   "cell_type": "code",
   "execution_count": 5,
   "metadata": {
    "slideshow": {
     "slide_type": "slide"
    }
   },
   "outputs": [
    {
     "name": "stdout",
     "output_type": "stream",
     "text": [
      "['R']\n",
      "['R', 'P']\n",
      "['R', 'P', 'S']\n",
      "['R', 'P', 'S', 'R']\n",
      "['R', 'P', 'S', 'R', 'P']\n",
      "['R', 'P', 'S', 'R', 'P', 'S']\n",
      "['R', 'P', 'S', 'R', 'P', 'S', 'R']\n",
      "['R', 'P', 'S', 'R', 'P', 'S', 'R', 'P']\n",
      "['R', 'P', 'S', 'R', 'P', 'S', 'R', 'P', 'S']\n"
     ]
    }
   ],
   "source": [
    "# Repeats a sequence over and over again\n",
    "\n",
    "from itertools import cycle, islice\n",
    "\n",
    "for n in range(1, 10):\n",
    "    print(list(islice(cycle('RPS'), n)))"
   ]
  },
  {
   "cell_type": "code",
   "execution_count": 6,
   "metadata": {
    "slideshow": {
     "slide_type": "slide"
    }
   },
   "outputs": [
    {
     "name": "stdout",
     "output_type": "stream",
     "text": [
      "('R', 'P', 'S')\n",
      "(4, 3, 2)\n"
     ]
    }
   ],
   "source": [
    "# Separate keys and values into a tuple\n",
    "\n",
    "d = dict(R=4, P=3, S=2)\n",
    "\n",
    "keys, values = zip(*d.items())\n",
    "\n",
    "print(keys)\n",
    "print(values)"
   ]
  },
  {
   "cell_type": "code",
   "execution_count": 7,
   "metadata": {
    "slideshow": {
     "slide_type": "slide"
    }
   },
   "outputs": [
    {
     "data": {
      "text/plain": [
       "[('a', 'b'), ('b', 'c'), ('c', 'd'), ('d', 'e')]"
      ]
     },
     "execution_count": 7,
     "metadata": {},
     "output_type": "execute_result"
    }
   ],
   "source": [
    "# Group interable into overlapping digraphs\n",
    "\n",
    "s = 'abcde'\n",
    "\n",
    "list(zip(s, s[1:]))"
   ]
  },
  {
   "cell_type": "code",
   "execution_count": 8,
   "metadata": {
    "slideshow": {
     "slide_type": "slide"
    }
   },
   "outputs": [
    {
     "data": {
      "text/plain": [
       "['R', 'R', 'S', 'R', 'S', 'R', 'P', 'R', 'P', 'P']"
      ]
     },
     "execution_count": 8,
     "metadata": {},
     "output_type": "execute_result"
    }
   ],
   "source": [
    "# Makes a weighted choice from a population\n",
    "\n",
    "from random import choices\n",
    "\n",
    "choices(['R', 'P', 'S'], \n",
    "        [6, 3, 1], \n",
    "        k=10)"
   ]
  },
  {
   "cell_type": "markdown",
   "metadata": {
    "slideshow": {
     "slide_type": "slide"
    }
   },
   "source": [
    "  "
   ]
  },
  {
   "cell_type": "markdown",
   "metadata": {
    "slideshow": {
     "slide_type": "slide"
    }
   },
   "source": [
    "  "
   ]
  },
  {
   "cell_type": "markdown",
   "metadata": {
    "slideshow": {
     "slide_type": "slide"
    }
   },
   "source": [
    "  "
   ]
  },
  {
   "cell_type": "markdown",
   "metadata": {
    "slideshow": {
     "slide_type": "slide"
    }
   },
   "source": [
    "  "
   ]
  },
  {
   "cell_type": "markdown",
   "metadata": {
    "slideshow": {
     "slide_type": "slide"
    }
   },
   "source": [
    "  "
   ]
  },
  {
   "cell_type": "markdown",
   "metadata": {
    "slideshow": {
     "slide_type": "slide"
    }
   },
   "source": [
    "  "
   ]
  },
  {
   "cell_type": "markdown",
   "metadata": {
    "slideshow": {
     "slide_type": "slide"
    }
   },
   "source": [
    "  "
   ]
  },
  {
   "cell_type": "markdown",
   "metadata": {
    "slideshow": {
     "slide_type": "slide"
    }
   },
   "source": [
    "  "
   ]
  },
  {
   "cell_type": "markdown",
   "metadata": {
    "slideshow": {
     "slide_type": "slide"
    }
   },
   "source": [
    "  "
   ]
  },
  {
   "cell_type": "markdown",
   "metadata": {
    "slideshow": {
     "slide_type": "slide"
    }
   },
   "source": [
    "  "
   ]
  },
  {
   "cell_type": "markdown",
   "metadata": {
    "slideshow": {
     "slide_type": "slide"
    }
   },
   "source": [
    "  "
   ]
  },
  {
   "cell_type": "markdown",
   "metadata": {
    "slideshow": {
     "slide_type": "slide"
    }
   },
   "source": [
    "  "
   ]
  },
  {
   "cell_type": "markdown",
   "metadata": {
    "slideshow": {
     "slide_type": "slide"
    }
   },
   "source": [
    "  "
   ]
  },
  {
   "cell_type": "markdown",
   "metadata": {
    "slideshow": {
     "slide_type": "slide"
    }
   },
   "source": [
    "  "
   ]
  },
  {
   "cell_type": "markdown",
   "metadata": {
    "slideshow": {
     "slide_type": "slide"
    }
   },
   "source": [
    "  "
   ]
  },
  {
   "cell_type": "markdown",
   "metadata": {
    "slideshow": {
     "slide_type": "slide"
    }
   },
   "source": [
    "  "
   ]
  },
  {
   "cell_type": "markdown",
   "metadata": {
    "slideshow": {
     "slide_type": "slide"
    }
   },
   "source": [
    "  "
   ]
  },
  {
   "cell_type": "markdown",
   "metadata": {
    "slideshow": {
     "slide_type": "slide"
    }
   },
   "source": [
    "  "
   ]
  },
  {
   "cell_type": "markdown",
   "metadata": {
    "slideshow": {
     "slide_type": "slide"
    }
   },
   "source": [
    "  "
   ]
  },
  {
   "cell_type": "markdown",
   "metadata": {
    "slideshow": {
     "slide_type": "slide"
    }
   },
   "source": [
    "  "
   ]
  },
  {
   "cell_type": "markdown",
   "metadata": {
    "slideshow": {
     "slide_type": "slide"
    }
   },
   "source": [
    "  "
   ]
  },
  {
   "cell_type": "markdown",
   "metadata": {
    "slideshow": {
     "slide_type": "slide"
    }
   },
   "source": [
    "  "
   ]
  },
  {
   "cell_type": "markdown",
   "metadata": {
    "slideshow": {
     "slide_type": "slide"
    }
   },
   "source": [
    "  "
   ]
  },
  {
   "cell_type": "markdown",
   "metadata": {
    "slideshow": {
     "slide_type": "slide"
    }
   },
   "source": [
    "  "
   ]
  },
  {
   "cell_type": "markdown",
   "metadata": {
    "slideshow": {
     "slide_type": "slide"
    }
   },
   "source": [
    "  "
   ]
  },
  {
   "cell_type": "markdown",
   "metadata": {
    "slideshow": {
     "slide_type": "slide"
    }
   },
   "source": [
    "<center><h2>Summary</h2></center>\n",
    "\n",
    "- Rock, Paper, Scissors is simple game.\n",
    "- There are many possible strategies.\n",
    "- There is no clear optimal strategies.\n",
    "- We can empirically explore how different strategies work. "
   ]
  }
 ],
 "metadata": {
  "celltoolbar": "Slideshow",
  "kernelspec": {
   "display_name": "Python 3",
   "language": "python",
   "name": "python3"
  },
  "language_info": {
   "codemirror_mode": {
    "name": "ipython",
    "version": 3
   },
   "file_extension": ".py",
   "mimetype": "text/x-python",
   "name": "python",
   "nbconvert_exporter": "python",
   "pygments_lexer": "ipython3",
   "version": "3.7.3"
  },
  "toc": {
   "base_numbering": 1,
   "nav_menu": {},
   "number_sections": false,
   "sideBar": true,
   "skip_h1_title": false,
   "title_cell": "Table of Contents",
   "title_sidebar": "Contents",
   "toc_cell": true,
   "toc_position": {},
   "toc_section_display": true,
   "toc_window_display": false
  }
 },
 "nbformat": 4,
 "nbformat_minor": 2
}
