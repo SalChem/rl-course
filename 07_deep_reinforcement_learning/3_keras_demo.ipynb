{
 "cells": [
  {
   "cell_type": "markdown",
   "metadata": {
    "toc": true
   },
   "source": [
    "<h1>Table of Contents<span class=\"tocSkip\"></span></h1>\n",
    "<div class=\"toc\"><ul class=\"toc-item\"><li><span><a href=\"#Keras\" data-toc-modified-id=\"Keras-1\">Keras</a></span></li><li><span><a href=\"#What-is-Keras?\" data-toc-modified-id=\"What-is-Keras?-2\">What is Keras?</a></span></li><li><span><a href=\"#Why-is-Keras?\" data-toc-modified-id=\"Why-is-Keras?-3\">Why is Keras?</a></span></li><li><span><a href=\"#Start-with-data\" data-toc-modified-id=\"Start-with-data-4\">Start with data</a></span></li><li><span><a href=\"#Define-architecture\" data-toc-modified-id=\"Define-architecture-5\">Define architecture</a></span></li><li><span><a href=\"#Build-a-MLP-\" data-toc-modified-id=\"Build-a-MLP--6\">Build a MLP </a></span></li><li><span><a href=\"#Train-model\" data-toc-modified-id=\"Train-model-7\">Train model</a></span></li><li><span><a href=\"#Check-for-understanding\" data-toc-modified-id=\"Check-for-understanding-8\">Check for understanding</a></span></li></ul></div>"
   ]
  },
  {
   "cell_type": "markdown",
   "metadata": {},
   "source": [
    "<center><h2>Keras</h2></center>\n",
    "\n",
    "<center><img src=\"https://keras.io/img/keras-logo-small.jpg\" width=\"45%\"/></center>"
   ]
  },
  {
   "cell_type": "markdown",
   "metadata": {},
   "source": [
    "What is Keras?\n",
    "----\n",
    "\n",
    "A higher-level, intuitive API for building Neural Networks.\n",
    "\n"
   ]
  },
  {
   "cell_type": "markdown",
   "metadata": {},
   "source": [
    "Why is Keras?\n",
    "----\n",
    "\n",
    "Focus the __what__, not the __how__.\n",
    "\n",
    "Focus on enabling fast experimentation by using a simple and highly modular interface.\n",
    "\n",
    "Easy-to-define neural networks without thinking about backend execution.\n",
    "\n",
    "Abstracts away these lower level details, free from “implementation details”.\n",
    "\n",
    "Think SQL for Deep Learning."
   ]
  },
  {
   "cell_type": "code",
   "execution_count": 33,
   "metadata": {},
   "outputs": [],
   "source": [
    "reset -fs"
   ]
  },
  {
   "cell_type": "code",
   "execution_count": 34,
   "metadata": {},
   "outputs": [],
   "source": [
    "import warnings\n",
    "warnings.filterwarnings('always')"
   ]
  },
  {
   "cell_type": "code",
   "execution_count": 35,
   "metadata": {},
   "outputs": [],
   "source": [
    "# Import Keras (easy way or hard way)\n",
    "try:\n",
    "    import keras\n",
    "except ImportError:\n",
    "    import pip\n",
    "    import sys\n",
    "    import subprocess\n",
    "    subprocess.check_call([sys.executable, '-m', 'pip', 'install', 'keras'])\n",
    "    \n",
    "    import keras"
   ]
  },
  {
   "cell_type": "markdown",
   "metadata": {},
   "source": [
    "[Source](https://keras.io/getting-started/sequential-model-guide/)"
   ]
  },
  {
   "cell_type": "markdown",
   "metadata": {
    "collapsed": true
   },
   "source": [
    "Start with data\n",
    "----"
   ]
  },
  {
   "cell_type": "code",
   "execution_count": 36,
   "metadata": {},
   "outputs": [],
   "source": [
    "# Generate dummy data\n",
    "import numpy as np\n",
    "x_train = np.random.random((1000, 20))\n",
    "y_train = keras.utils.to_categorical(np.random.randint(10, size=(1000, 1)), num_classes=10)\n",
    "x_test = np.random.random((100, 20))\n",
    "y_test = keras.utils.to_categorical(np.random.randint(10, size=(100, 1)), num_classes=10)"
   ]
  },
  {
   "cell_type": "code",
   "execution_count": 37,
   "metadata": {},
   "outputs": [
    {
     "data": {
      "text/plain": [
       "array([0.97251631, 0.5810578 , 0.51662322, 0.95572687, 0.54988725,\n",
       "       0.73428616, 0.03506049, 0.24405024, 0.79522165, 0.31529314,\n",
       "       0.39492128, 0.45460757, 0.95526076, 0.44150741, 0.86706354,\n",
       "       0.54283393, 0.52238843, 0.39679886, 0.99963109, 0.60844488])"
      ]
     },
     "execution_count": 37,
     "metadata": {},
     "output_type": "execute_result"
    }
   ],
   "source": [
    "x_train[0]"
   ]
  },
  {
   "cell_type": "code",
   "execution_count": 38,
   "metadata": {},
   "outputs": [
    {
     "data": {
      "text/plain": [
       "array([0., 0., 0., 1., 0., 0., 0., 0., 0., 0.], dtype=float32)"
      ]
     },
     "execution_count": 38,
     "metadata": {},
     "output_type": "execute_result"
    }
   ],
   "source": [
    "y_train[0]"
   ]
  },
  {
   "cell_type": "markdown",
   "metadata": {},
   "source": [
    "----\n",
    "Define architecture\n",
    "-----\n",
    "\n",
    "![](images/MNIST_neuralnet_image.png)"
   ]
  },
  {
   "cell_type": "code",
   "execution_count": 39,
   "metadata": {},
   "outputs": [],
   "source": [
    "from keras.models import Sequential"
   ]
  },
  {
   "cell_type": "markdown",
   "metadata": {},
   "source": [
    "RTFM - https://keras.io/layers/"
   ]
  },
  {
   "cell_type": "markdown",
   "metadata": {},
   "source": [
    "Build a MLP \n",
    "-----"
   ]
  },
  {
   "cell_type": "code",
   "execution_count": 40,
   "metadata": {},
   "outputs": [],
   "source": [
    "# Define model\n",
    "model = Sequential()"
   ]
  },
  {
   "cell_type": "code",
   "execution_count": 41,
   "metadata": {},
   "outputs": [],
   "source": [
    "# Dense(64) is a fully-connected layer \n",
    "from keras.layers import Dense"
   ]
  },
  {
   "cell_type": "code",
   "execution_count": 42,
   "metadata": {},
   "outputs": [],
   "source": [
    "# Define input layer\n",
    "\n",
    "layer_input = Dense(units=64, \n",
    "                    activation='relu', \n",
    "                    input_dim=20)\n",
    "model.add(layer_input)"
   ]
  },
  {
   "cell_type": "code",
   "execution_count": 43,
   "metadata": {},
   "outputs": [],
   "source": [
    "# DL over-fitts randomly remove some connections during traing\n",
    "from keras.layers import Dropout"
   ]
  },
  {
   "cell_type": "code",
   "execution_count": 44,
   "metadata": {},
   "outputs": [],
   "source": [
    "model.add(Dropout(rate=0.5))"
   ]
  },
  {
   "cell_type": "code",
   "execution_count": 45,
   "metadata": {},
   "outputs": [],
   "source": [
    "# Define another layer\n",
    "# Note: Only need to declare minimum specifications\n",
    "model.add(Dense(units=64, activation='relu'))"
   ]
  },
  {
   "cell_type": "code",
   "execution_count": 46,
   "metadata": {},
   "outputs": [],
   "source": [
    "# Dropout is good idea, let's do it again\n",
    "model.add(Dropout(rate=0.5))"
   ]
  },
  {
   "cell_type": "code",
   "execution_count": 47,
   "metadata": {},
   "outputs": [],
   "source": [
    "# Define output layer\n",
    "model.add(Dense(10, activation='softmax'))"
   ]
  },
  {
   "cell_type": "code",
   "execution_count": 48,
   "metadata": {},
   "outputs": [
    {
     "name": "stdout",
     "output_type": "stream",
     "text": [
      "_________________________________________________________________\n",
      "Layer (type)                 Output Shape              Param #   \n",
      "=================================================================\n",
      "dense_4 (Dense)              (None, 64)                1344      \n",
      "_________________________________________________________________\n",
      "dropout_3 (Dropout)          (None, 64)                0         \n",
      "_________________________________________________________________\n",
      "dense_5 (Dense)              (None, 64)                4160      \n",
      "_________________________________________________________________\n",
      "dropout_4 (Dropout)          (None, 64)                0         \n",
      "_________________________________________________________________\n",
      "dense_6 (Dense)              (None, 10)                650       \n",
      "=================================================================\n",
      "Total params: 6,154\n",
      "Trainable params: 6,154\n",
      "Non-trainable params: 0\n",
      "_________________________________________________________________\n"
     ]
    }
   ],
   "source": [
    "model.summary()"
   ]
  },
  {
   "cell_type": "code",
   "execution_count": 49,
   "metadata": {},
   "outputs": [],
   "source": [
    "from keras.optimizers import SGD"
   ]
  },
  {
   "cell_type": "code",
   "execution_count": 50,
   "metadata": {},
   "outputs": [],
   "source": [
    "sgd = SGD(lr=0.01, \n",
    "          decay=1e-6, \n",
    "          momentum=0.9, \n",
    "          nesterov=True)\n",
    "\n",
    "model.compile(loss='categorical_crossentropy',\n",
    "              optimizer=sgd,\n",
    "              metrics=['accuracy'])\n"
   ]
  },
  {
   "cell_type": "markdown",
   "metadata": {},
   "source": [
    "----\n",
    "Train model\n",
    "-----"
   ]
  },
  {
   "cell_type": "code",
   "execution_count": 54,
   "metadata": {},
   "outputs": [],
   "source": [
    "epochs = 20 # Number of passes over complete dataset\n",
    "batch_size = 128 # Number of samples before a backprop pass"
   ]
  },
  {
   "cell_type": "code",
   "execution_count": 55,
   "metadata": {},
   "outputs": [
    {
     "name": "stdout",
     "output_type": "stream",
     "text": [
      "Epoch 1/100\n",
      "1000/1000 [==============================] - 0s 75us/step - loss: 2.3667 - acc: 0.1020\n",
      "Epoch 2/100\n",
      "1000/1000 [==============================] - 0s 65us/step - loss: 2.3296 - acc: 0.1010\n",
      "Epoch 3/100\n",
      "1000/1000 [==============================] - 0s 63us/step - loss: 2.3314 - acc: 0.1080\n",
      "Epoch 4/100\n",
      "1000/1000 [==============================] - 0s 58us/step - loss: 2.3218 - acc: 0.1140\n",
      "Epoch 5/100\n",
      "1000/1000 [==============================] - 0s 84us/step - loss: 2.3092 - acc: 0.1160\n",
      "Epoch 6/100\n",
      "1000/1000 [==============================] - 0s 122us/step - loss: 2.3029 - acc: 0.1080\n",
      "Epoch 7/100\n",
      "1000/1000 [==============================] - 0s 75us/step - loss: 2.3131 - acc: 0.1130\n",
      "Epoch 8/100\n",
      "1000/1000 [==============================] - 0s 62us/step - loss: 2.3068 - acc: 0.1030\n",
      "Epoch 9/100\n",
      "1000/1000 [==============================] - 0s 62us/step - loss: 2.3157 - acc: 0.0970\n",
      "Epoch 10/100\n",
      "1000/1000 [==============================] - 0s 63us/step - loss: 2.3058 - acc: 0.1090\n",
      "Epoch 11/100\n",
      "1000/1000 [==============================] - 0s 67us/step - loss: 2.3041 - acc: 0.1030\n",
      "Epoch 12/100\n",
      "1000/1000 [==============================] - 0s 67us/step - loss: 2.3010 - acc: 0.1170\n",
      "Epoch 13/100\n",
      "1000/1000 [==============================] - 0s 68us/step - loss: 2.2996 - acc: 0.1040\n",
      "Epoch 14/100\n",
      "1000/1000 [==============================] - 0s 63us/step - loss: 2.2968 - acc: 0.1170\n",
      "Epoch 15/100\n",
      "1000/1000 [==============================] - 0s 102us/step - loss: 2.2996 - acc: 0.1260\n",
      "Epoch 16/100\n",
      "1000/1000 [==============================] - 0s 70us/step - loss: 2.2979 - acc: 0.1200\n",
      "Epoch 17/100\n",
      "1000/1000 [==============================] - 0s 68us/step - loss: 2.2989 - acc: 0.1140\n",
      "Epoch 18/100\n",
      "1000/1000 [==============================] - 0s 70us/step - loss: 2.2964 - acc: 0.1140\n",
      "Epoch 19/100\n",
      "1000/1000 [==============================] - 0s 68us/step - loss: 2.2949 - acc: 0.1240\n",
      "Epoch 20/100\n",
      "1000/1000 [==============================] - 0s 71us/step - loss: 2.2901 - acc: 0.1170\n",
      "Epoch 21/100\n",
      "1000/1000 [==============================] - 0s 88us/step - loss: 2.3019 - acc: 0.1170\n",
      "Epoch 22/100\n",
      "1000/1000 [==============================] - 0s 74us/step - loss: 2.2991 - acc: 0.1210\n",
      "Epoch 23/100\n",
      "1000/1000 [==============================] - 0s 69us/step - loss: 2.2903 - acc: 0.1300\n",
      "Epoch 24/100\n",
      "1000/1000 [==============================] - 0s 85us/step - loss: 2.2947 - acc: 0.1130\n",
      "Epoch 25/100\n",
      "1000/1000 [==============================] - 0s 76us/step - loss: 2.2909 - acc: 0.1430\n",
      "Epoch 26/100\n",
      "1000/1000 [==============================] - 0s 66us/step - loss: 2.2899 - acc: 0.1240\n",
      "Epoch 27/100\n",
      "1000/1000 [==============================] - 0s 77us/step - loss: 2.3012 - acc: 0.1250\n",
      "Epoch 28/100\n",
      "1000/1000 [==============================] - 0s 66us/step - loss: 2.2872 - acc: 0.1500\n",
      "Epoch 29/100\n",
      "1000/1000 [==============================] - 0s 63us/step - loss: 2.2923 - acc: 0.1160\n",
      "Epoch 30/100\n",
      "1000/1000 [==============================] - 0s 74us/step - loss: 2.2936 - acc: 0.1370\n",
      "Epoch 31/100\n",
      "1000/1000 [==============================] - 0s 86us/step - loss: 2.2956 - acc: 0.1380\n",
      "Epoch 32/100\n",
      "1000/1000 [==============================] - 0s 73us/step - loss: 2.2929 - acc: 0.1280\n",
      "Epoch 33/100\n",
      "1000/1000 [==============================] - 0s 117us/step - loss: 2.2913 - acc: 0.1250\n",
      "Epoch 34/100\n",
      "1000/1000 [==============================] - 0s 111us/step - loss: 2.2866 - acc: 0.1370\n",
      "Epoch 35/100\n",
      "1000/1000 [==============================] - 0s 65us/step - loss: 2.2915 - acc: 0.1290\n",
      "Epoch 36/100\n",
      "1000/1000 [==============================] - 0s 75us/step - loss: 2.2904 - acc: 0.1340\n",
      "Epoch 37/100\n",
      "1000/1000 [==============================] - 0s 82us/step - loss: 2.2906 - acc: 0.1380\n",
      "Epoch 38/100\n",
      "1000/1000 [==============================] - 0s 92us/step - loss: 2.2926 - acc: 0.1260\n",
      "Epoch 39/100\n",
      "1000/1000 [==============================] - 0s 75us/step - loss: 2.2860 - acc: 0.1320\n",
      "Epoch 40/100\n",
      "1000/1000 [==============================] - 0s 65us/step - loss: 2.2847 - acc: 0.1320\n",
      "Epoch 41/100\n",
      "1000/1000 [==============================] - 0s 58us/step - loss: 2.2888 - acc: 0.1310\n",
      "Epoch 42/100\n",
      "1000/1000 [==============================] - 0s 61us/step - loss: 2.2858 - acc: 0.1410\n",
      "Epoch 43/100\n",
      "1000/1000 [==============================] - 0s 68us/step - loss: 2.2869 - acc: 0.1230\n",
      "Epoch 44/100\n",
      "1000/1000 [==============================] - 0s 68us/step - loss: 2.2880 - acc: 0.1350\n",
      "Epoch 45/100\n",
      "1000/1000 [==============================] - 0s 77us/step - loss: 2.2892 - acc: 0.1390\n",
      "Epoch 46/100\n",
      "1000/1000 [==============================] - 0s 80us/step - loss: 2.2869 - acc: 0.1200\n",
      "Epoch 47/100\n",
      "1000/1000 [==============================] - 0s 73us/step - loss: 2.2850 - acc: 0.1290\n",
      "Epoch 48/100\n",
      "1000/1000 [==============================] - 0s 69us/step - loss: 2.2795 - acc: 0.1480\n",
      "Epoch 49/100\n",
      "1000/1000 [==============================] - 0s 64us/step - loss: 2.2834 - acc: 0.1510\n",
      "Epoch 50/100\n",
      "1000/1000 [==============================] - 0s 61us/step - loss: 2.2869 - acc: 0.1380\n",
      "Epoch 51/100\n",
      "1000/1000 [==============================] - 0s 75us/step - loss: 2.2850 - acc: 0.1320\n",
      "Epoch 52/100\n",
      "1000/1000 [==============================] - 0s 79us/step - loss: 2.2863 - acc: 0.1250\n",
      "Epoch 53/100\n",
      "1000/1000 [==============================] - 0s 83us/step - loss: 2.2864 - acc: 0.1450\n",
      "Epoch 54/100\n",
      "1000/1000 [==============================] - 0s 64us/step - loss: 2.2812 - acc: 0.1550\n",
      "Epoch 55/100\n",
      "1000/1000 [==============================] - 0s 59us/step - loss: 2.2806 - acc: 0.1410\n",
      "Epoch 56/100\n",
      "1000/1000 [==============================] - 0s 61us/step - loss: 2.2847 - acc: 0.1400\n",
      "Epoch 57/100\n",
      "1000/1000 [==============================] - 0s 62us/step - loss: 2.2827 - acc: 0.1330\n",
      "Epoch 58/100\n",
      "1000/1000 [==============================] - 0s 59us/step - loss: 2.2870 - acc: 0.1350\n",
      "Epoch 59/100\n",
      "1000/1000 [==============================] - 0s 63us/step - loss: 2.2830 - acc: 0.1420\n",
      "Epoch 60/100\n",
      "1000/1000 [==============================] - 0s 70us/step - loss: 2.2877 - acc: 0.1420\n",
      "Epoch 61/100\n",
      "1000/1000 [==============================] - 0s 73us/step - loss: 2.2871 - acc: 0.1320\n",
      "Epoch 62/100\n",
      "1000/1000 [==============================] - 0s 130us/step - loss: 2.2823 - acc: 0.1440\n",
      "Epoch 63/100\n",
      "1000/1000 [==============================] - 0s 82us/step - loss: 2.2853 - acc: 0.1440\n",
      "Epoch 64/100\n",
      "1000/1000 [==============================] - 0s 84us/step - loss: 2.2781 - acc: 0.1370\n",
      "Epoch 65/100\n",
      "1000/1000 [==============================] - 0s 79us/step - loss: 2.2817 - acc: 0.1320\n",
      "Epoch 66/100\n",
      "1000/1000 [==============================] - 0s 77us/step - loss: 2.2803 - acc: 0.1530\n",
      "Epoch 67/100\n",
      "1000/1000 [==============================] - 0s 80us/step - loss: 2.2801 - acc: 0.1390\n",
      "Epoch 68/100\n",
      "1000/1000 [==============================] - 0s 73us/step - loss: 2.2792 - acc: 0.1370\n",
      "Epoch 69/100\n",
      "1000/1000 [==============================] - 0s 78us/step - loss: 2.2801 - acc: 0.1530\n",
      "Epoch 70/100\n",
      "1000/1000 [==============================] - 0s 80us/step - loss: 2.2752 - acc: 0.1420\n",
      "Epoch 71/100\n",
      "1000/1000 [==============================] - 0s 74us/step - loss: 2.2821 - acc: 0.1390\n",
      "Epoch 72/100\n",
      "1000/1000 [==============================] - 0s 80us/step - loss: 2.2748 - acc: 0.1420\n",
      "Epoch 73/100\n",
      "1000/1000 [==============================] - 0s 66us/step - loss: 2.2824 - acc: 0.1340\n",
      "Epoch 74/100\n",
      "1000/1000 [==============================] - 0s 71us/step - loss: 2.2828 - acc: 0.1290\n",
      "Epoch 75/100\n",
      "1000/1000 [==============================] - 0s 64us/step - loss: 2.2799 - acc: 0.1340\n",
      "Epoch 76/100\n",
      "1000/1000 [==============================] - 0s 66us/step - loss: 2.2747 - acc: 0.1500\n",
      "Epoch 77/100\n",
      "1000/1000 [==============================] - 0s 64us/step - loss: 2.2816 - acc: 0.1550\n",
      "Epoch 78/100\n",
      "1000/1000 [==============================] - 0s 63us/step - loss: 2.2765 - acc: 0.1300\n",
      "Epoch 79/100\n",
      "1000/1000 [==============================] - 0s 65us/step - loss: 2.2768 - acc: 0.1510\n",
      "Epoch 80/100\n",
      "1000/1000 [==============================] - 0s 71us/step - loss: 2.2740 - acc: 0.1410\n",
      "Epoch 81/100\n",
      "1000/1000 [==============================] - 0s 71us/step - loss: 2.2799 - acc: 0.1410\n",
      "Epoch 82/100\n",
      "1000/1000 [==============================] - 0s 66us/step - loss: 2.2790 - acc: 0.1420\n"
     ]
    },
    {
     "name": "stdout",
     "output_type": "stream",
     "text": [
      "Epoch 83/100\n",
      "1000/1000 [==============================] - 0s 75us/step - loss: 2.2722 - acc: 0.1390\n",
      "Epoch 84/100\n",
      "1000/1000 [==============================] - 0s 65us/step - loss: 2.2721 - acc: 0.1440\n",
      "Epoch 85/100\n",
      "1000/1000 [==============================] - 0s 62us/step - loss: 2.2791 - acc: 0.1530\n",
      "Epoch 86/100\n",
      "1000/1000 [==============================] - 0s 77us/step - loss: 2.2814 - acc: 0.1330\n",
      "Epoch 87/100\n",
      "1000/1000 [==============================] - 0s 101us/step - loss: 2.2721 - acc: 0.1550\n",
      "Epoch 88/100\n",
      "1000/1000 [==============================] - 0s 142us/step - loss: 2.2771 - acc: 0.1320\n",
      "Epoch 89/100\n",
      "1000/1000 [==============================] - 0s 139us/step - loss: 2.2721 - acc: 0.1470\n",
      "Epoch 90/100\n",
      "1000/1000 [==============================] - 0s 75us/step - loss: 2.2796 - acc: 0.1270\n",
      "Epoch 91/100\n",
      "1000/1000 [==============================] - 0s 69us/step - loss: 2.2709 - acc: 0.1490\n",
      "Epoch 92/100\n",
      "1000/1000 [==============================] - 0s 76us/step - loss: 2.2807 - acc: 0.1360\n",
      "Epoch 93/100\n",
      "1000/1000 [==============================] - 0s 86us/step - loss: 2.2768 - acc: 0.1390\n",
      "Epoch 94/100\n",
      "1000/1000 [==============================] - 0s 76us/step - loss: 2.2732 - acc: 0.1440\n",
      "Epoch 95/100\n",
      "1000/1000 [==============================] - 0s 76us/step - loss: 2.2697 - acc: 0.1550\n",
      "Epoch 96/100\n",
      "1000/1000 [==============================] - 0s 87us/step - loss: 2.2741 - acc: 0.1550\n",
      "Epoch 97/100\n",
      "1000/1000 [==============================] - 0s 70us/step - loss: 2.2745 - acc: 0.1370\n",
      "Epoch 98/100\n",
      "1000/1000 [==============================] - 0s 64us/step - loss: 2.2694 - acc: 0.1470\n",
      "Epoch 99/100\n",
      "1000/1000 [==============================] - 0s 63us/step - loss: 2.2676 - acc: 0.1430\n",
      "Epoch 100/100\n",
      "1000/1000 [==============================] - 0s 69us/step - loss: 2.2743 - acc: 0.1400\n"
     ]
    }
   ],
   "source": [
    "history = model.fit(x_train, \n",
    "                    y_train,\n",
    "                    epochs=epochs,\n",
    "                    batch_size=batch_size,\n",
    "                   verbose=True)"
   ]
  },
  {
   "cell_type": "markdown",
   "metadata": {},
   "source": [
    "__Now we wait...__\n",
    "\n",
    "![](images/waiting.jpg)"
   ]
  },
  {
   "cell_type": "code",
   "execution_count": 56,
   "metadata": {},
   "outputs": [
    {
     "name": "stdout",
     "output_type": "stream",
     "text": [
      "100/100 [==============================] - 0s 84us/step\n",
      "Test loss: 2.3\n",
      "Test accuracy: 17.000%\n"
     ]
    }
   ],
   "source": [
    "loss, accuracy = model.evaluate(x_test, \n",
    "                               y_test, \n",
    "                               verbose=True)\n",
    "print(f\"Test loss: {loss:.3}\")\n",
    "print(f\"Test accuracy: {accuracy:.3%}\")"
   ]
  },
  {
   "cell_type": "markdown",
   "metadata": {},
   "source": [
    "<center><h2>Check for understanding</h2></center>\n",
    "\n",
    "What is baseline performance?\n",
    "\n",
    "<br>\n",
    "<details><summary>\n",
    "Click here for the answer …\n",
    "</summary>\n",
    "10%<br>\n",
    "</details>\n",
    "\n",
    "How is our model doing?\n",
    "<br>\n",
    "<details><summary>\n",
    "Click here for a answer …\n",
    "</summary>\n",
    "Above chance, but not great<br>\n",
    "</details>\n",
    "\n",
    "How could we improve our model?\n",
    "<br>\n",
    "<details><summary>\n",
    "Click here for ideas …\n",
    "</summary>\n",
    "    \n",
    "<ul>\n",
    "<li>- Deeper / Bigger model</li>\n",
    "<li>- Better architecture</li>\n",
    "<li>- Training longer</li>\n",
    "</ul>\n",
    "\n",
    "\n",
    "</details>\n"
   ]
  },
  {
   "cell_type": "markdown",
   "metadata": {
    "collapsed": true
   },
   "source": [
    " "
   ]
  }
 ],
 "metadata": {
  "anaconda-cloud": {},
  "kernelspec": {
   "display_name": "Python 3",
   "language": "python",
   "name": "python3"
  },
  "language_info": {
   "codemirror_mode": {
    "name": "ipython",
    "version": 3
   },
   "file_extension": ".py",
   "mimetype": "text/x-python",
   "name": "python",
   "nbconvert_exporter": "python",
   "pygments_lexer": "ipython3",
   "version": "3.7.3"
  },
  "toc": {
   "base_numbering": 1,
   "nav_menu": {},
   "number_sections": false,
   "sideBar": false,
   "skip_h1_title": false,
   "title_cell": "Table of Contents",
   "title_sidebar": "Contents",
   "toc_cell": true,
   "toc_position": {},
   "toc_section_display": true,
   "toc_window_display": false
  }
 },
 "nbformat": 4,
 "nbformat_minor": 1
}
