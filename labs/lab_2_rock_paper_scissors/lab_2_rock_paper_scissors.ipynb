{
 "cells": [
  {
   "cell_type": "markdown",
   "metadata": {
    "deletable": false,
    "editable": false,
    "nbgrader": {
     "checksum": "299a300b9b41a63f1ac184ea8d8ccffc",
     "grade": false,
     "grade_id": "cell-588eb434a3567ee2",
     "locked": true,
     "schema_version": 1,
     "solution": false
    }
   },
   "source": [
    "<center><h2>Lab: Rock, Paper, Scissors</h2></center>"
   ]
  },
  {
   "cell_type": "markdown",
   "metadata": {
    "deletable": false,
    "editable": false,
    "nbgrader": {
     "checksum": "584ff8b0796bed04bef5a4fea56ab7ff",
     "grade": false,
     "grade_id": "cell-5cc85b93d38670f4",
     "locked": true,
     "schema_version": 1,
     "solution": false
    }
   },
   "source": [
    "<center><h2>Learning Outcomes</h2></center>\n",
    "\n",
    "#### By the end of this session, you should be able to:\n",
    "\n",
    "- Frame \"Rock, Paper, Scissors\" as a Reinforcement Learning problem.\n",
    "- Implement several strategies for \"Rock, Paper, Scissors\".\n",
    "- Discover a winning strategy to \"Rock, Paper, Scissors\" with multi-arm bandits."
   ]
  },
  {
   "cell_type": "markdown",
   "metadata": {
    "deletable": false,
    "editable": false,
    "nbgrader": {
     "checksum": "7718236fd3044130dc2498c9b8b5884d",
     "grade": false,
     "grade_id": "cell-4c2509412e14fb83",
     "locked": true,
     "schema_version": 1,
     "solution": false
    }
   },
   "source": [
    "Rock, Paper, Scissors as a Reinforcement Learning problem\n",
    "--------"
   ]
  },
  {
   "cell_type": "markdown",
   "metadata": {
    "deletable": false,
    "editable": false,
    "nbgrader": {
     "checksum": "058e2591a560f2f9532e02aca0112217",
     "grade": false,
     "grade_id": "cell-d0ad6e7dda9976dc",
     "locked": true,
     "schema_version": 1,
     "solution": false
    }
   },
   "source": [
    "For Rock, Paper, Scissors, answer the following questions in the following cell:\n",
    "\n",
    "1. Is it sequential?\n",
    "1. What is the environment? \n",
    "1. Who is the agent?\n",
    "1. What are the states?\n",
    "1. What are the rewards?\n",
    "\n",
    "5 points"
   ]
  },
  {
   "cell_type": "markdown",
   "metadata": {
    "deletable": false,
    "nbgrader": {
     "checksum": "58118c8e9c39d9bc635d78253a8c3c71",
     "grade": true,
     "grade_id": "cell-717ff8136dd78454",
     "locked": false,
     "points": 5,
     "schema_version": 1,
     "solution": true
    }
   },
   "source": [
    "YOUR ANSWER HERE"
   ]
  },
  {
   "cell_type": "markdown",
   "metadata": {
    "deletable": false,
    "editable": false,
    "nbgrader": {
     "checksum": "d4da66784fbe45dd4e7b50139b9e9709",
     "grade": false,
     "grade_id": "cell-5d96bc0b970f58cb",
     "locked": true,
     "schema_version": 1,
     "solution": false
    }
   },
   "source": [
    "Setup\n",
    "-----"
   ]
  },
  {
   "cell_type": "code",
   "execution_count": null,
   "metadata": {
    "deletable": false,
    "editable": false,
    "nbgrader": {
     "checksum": "89568de670d8936b162de23fc95062ad",
     "grade": false,
     "grade_id": "cell-b3989d3eb2c9086b",
     "locked": true,
     "schema_version": 1,
     "solution": false
    }
   },
   "outputs": [],
   "source": [
    "reset -fs"
   ]
  },
  {
   "cell_type": "code",
   "execution_count": null,
   "metadata": {
    "deletable": false,
    "editable": false,
    "nbgrader": {
     "checksum": "03917feeb6e9dc8be56c255ac7357426",
     "grade": false,
     "grade_id": "cell-c517d5da81fc87bc",
     "locked": true,
     "schema_version": 1,
     "solution": false
    }
   },
   "outputs": [],
   "source": [
    "from collections import Counter\n",
    "from random import choices, choice\n",
    "from itertools import chain, cycle\n",
    "from pprint import pprint\n",
    "\n",
    "# Game Definition \n",
    "options = ['R', 'P', 'S'] # Rock, Paper, Scissor\n",
    "\n",
    "scorer = dict(SP=1, PR=1, RS=1, \n",
    "              PS=-1, RP=-1, SR=-1, \n",
    "              SS=0, PP=0, RR=0)\n",
    "\n",
    "# Deterministic decisions to win\n",
    "ideal_response = {'P': 'S', # Scissors cuts Paper\n",
    "                  'R': 'P', # Paper covers Rock\n",
    "                  'S': 'R'} #  Rock crushes Scissors\n",
    "\n",
    "# Strategy utilities \n",
    "def select_proportional(events, baseline=()):\n",
    "    \"Given a history of events, sample next event based on past frequnecy.\"\n",
    "    rel_freq = Counter(chain(baseline, events))\n",
    "    population, weights = zip(*rel_freq.items())\n",
    "    return choices(population, weights)[0]\n",
    "\n",
    "def select_maximum(events, baseline=()):\n",
    "    \"Given a history of events, select next event as the most common event seen so far.\"\n",
    "    rel_freq = Counter(chain(baseline, events))\n",
    "    return rel_freq.most_common(1)[0][0]\n",
    "\n",
    "assert select_maximum('R R S'.split(), options) == 'R'"
   ]
  },
  {
   "cell_type": "markdown",
   "metadata": {
    "deletable": false,
    "editable": false,
    "nbgrader": {
     "checksum": "4708f56e592c777a4ac7d6ee9fa55aea",
     "grade": false,
     "grade_id": "cell-4847c0eb82f7afe0",
     "locked": true,
     "schema_version": 1,
     "solution": false
    }
   },
   "source": [
    "Strategies\n",
    "----"
   ]
  },
  {
   "cell_type": "code",
   "execution_count": null,
   "metadata": {
    "code_folding": [],
    "deletable": false,
    "nbgrader": {
     "checksum": "402ef8292838ee2144cb37f4ca2fdb45",
     "grade": false,
     "grade_id": "cell-d89c48480247256d",
     "locked": false,
     "schema_version": 1,
     "solution": true
    }
   },
   "outputs": [],
   "source": [
    "\"\"\"Write a function to randomly select among the possible options.\n",
    "\n",
    "Hints:\n",
    "- Read the rest of the lab before writing this function.\n",
    "- Each function has the same parameters so there is a consistent API. Not all functions use all parameters.\n",
    "- Feel free to use global functions and variables.\n",
    "- It should be a simple one-liner.\n",
    "\"\"\"\n",
    "\n",
    "def random_reply(p1_history, p2_history):\n",
    "    # YOUR CODE HERE\n",
    "    raise NotImplementedError()"
   ]
  },
  {
   "cell_type": "code",
   "execution_count": null,
   "metadata": {
    "deletable": false,
    "editable": false,
    "nbgrader": {
     "checksum": "2e1bf9c0e2972d89c13aa0d205ed48fc",
     "grade": true,
     "grade_id": "cell-308b6a720f3853a4",
     "locked": true,
     "points": 1,
     "schema_version": 1,
     "solution": false
    }
   },
   "outputs": [],
   "source": [
    "\"\"\"\n",
    "Test code for random_reply function.\n",
    "1 point.\n",
    "This cell should NOT give any errors when it is run.\n",
    "\"\"\"\n",
    "\n",
    "# Simulate plays\n",
    "n = 1_000_000\n",
    "outcomes = [random_reply(p1_history=None, p2_history=None) for _ in range(n)]\n",
    "\n",
    "# Evaluate outcomes\n",
    "c = Counter(outcomes)\n",
    "assert set(c.keys()) == {'R', 'S', 'P'}\n",
    "assert sum(c.values()) == n\n",
    "\n",
    "# See if all outcomes are about equally likely\n",
    "precision = -4\n",
    "assert int(round(c['R'], precision)) == int(round(c['P'], precision))  == int(round(c['S'], precision)) "
   ]
  },
  {
   "cell_type": "code",
   "execution_count": null,
   "metadata": {
    "deletable": false,
    "nbgrader": {
     "checksum": "247ddeec4f454cba4bc9845ae14301b5",
     "grade": false,
     "grade_id": "cell-97519a0b575fc09c",
     "locked": false,
     "schema_version": 1,
     "solution": true
    }
   },
   "outputs": [],
   "source": [
    "\"\"\"Write a function to select greedy.\n",
    "\n",
    "Hint: Pick the right function with right parameters to generate prediction.\n",
    "\"\"\"\n",
    "\n",
    "def single_event_greedy(p1_history, p2_history):\n",
    "    \"When opponent plays R more than P or S, always respond with P.\"\n",
    "    # YOUR CODE HERE\n",
    "    raise NotImplementedError()\n",
    "    \n",
    "    return ideal_response[prediction]"
   ]
  },
  {
   "cell_type": "code",
   "execution_count": null,
   "metadata": {
    "deletable": false,
    "editable": false,
    "nbgrader": {
     "checksum": "3ba266cde09c6bb0505b282b35a12c84",
     "grade": true,
     "grade_id": "cell-c6ec4a22b0e804d6",
     "locked": true,
     "points": 2,
     "schema_version": 1,
     "solution": false
    }
   },
   "outputs": [],
   "source": [
    "\"\"\"\n",
    "Test code for single_event_greedy function.\n",
    "2 points.\n",
    "This cell should NOT give any errors when it is run.\n",
    "\"\"\"\n",
    "\n",
    "histories = [['R'],\n",
    "             ['R', 'R'],\n",
    "             ['R', 'R', 'P'],\n",
    "             ['R', 'R', 'P', 'S'],\n",
    "            ]\n",
    "n = 100_000\n",
    "\n",
    "for history in histories:\n",
    "    outcomes = [single_event_greedy(p1_history=None, p2_history=history) for _ in range(n)]\n",
    "    c = Counter(outcomes)\n",
    "\n",
    "    assert (c['P'] == n) and (c['S'] == 0) and (c['R'] == 0)"
   ]
  },
  {
   "cell_type": "code",
   "execution_count": null,
   "metadata": {
    "code_folding": [],
    "deletable": false,
    "nbgrader": {
     "checksum": "02dd34a6f771b056d4871e3d9b57f485",
     "grade": false,
     "grade_id": "cell-3139ff18f6b4fca3",
     "locked": false,
     "schema_version": 1,
     "solution": true
    }
   },
   "outputs": [],
   "source": [
    "\"\"\"Write a function to select propotionally.\n",
    "\n",
    "Hint: Pick the right function with right parameters to generate prediction.\n",
    "\"\"\"\n",
    "\n",
    "def single_event_proportional(p1_history, p2_history):\n",
    "    \"When opponent plays R two-thirds of the time, respond with P two-thirds of the time.\"\n",
    "    # YOUR CODE HERE\n",
    "    raise NotImplementedError()\n",
    "    \n",
    "    return ideal_response[prediction]"
   ]
  },
  {
   "cell_type": "code",
   "execution_count": null,
   "metadata": {
    "deletable": false,
    "editable": false,
    "nbgrader": {
     "checksum": "5422d8457e04837b5d5bd04250adbaac",
     "grade": true,
     "grade_id": "cell-cd5ad46a62538890",
     "locked": true,
     "points": 2,
     "schema_version": 1,
     "solution": false
    }
   },
   "outputs": [],
   "source": [
    "\"\"\"\n",
    "Test code for single_event_proportional function.\n",
    "2 points.\n",
    "This cell should NOT give any errors when it is run.\n",
    "\"\"\"\n",
    "\n",
    "histories = [['R'],\n",
    "             ['R', 'R'],\n",
    "             ['R', 'R', 'R'],\n",
    "            ]\n",
    "n = 100_000\n",
    "\n",
    "for history in histories:\n",
    "    outcomes = [single_event_proportional(p1_history=None, p2_history=history) for _ in range(n)]\n",
    "    c = Counter(outcomes)\n",
    "\n",
    "    assert (c['P'] > 0) and (c['S'] > 0) and (c['R'] > 0)\n",
    "    assert c['P']*2 > c['S']\n",
    "    assert c['P']*2 > c['R']"
   ]
  },
  {
   "cell_type": "code",
   "execution_count": null,
   "metadata": {
    "deletable": false,
    "nbgrader": {
     "checksum": "7136d1df517bb92313dd37cc075dce4d",
     "grade": false,
     "grade_id": "cell-876b92744b196086",
     "locked": false,
     "schema_version": 1,
     "solution": true
    }
   },
   "outputs": [],
   "source": [
    "\"\"\"Write a function to digraph_event_greedy.\n",
    "\n",
    "Each line has been started for you.\n",
    "\"\"\"\n",
    "\n",
    "def digraph_event_greedy(p1_history, p2_history):\n",
    "    \"\"\"When opponent's most recent play is S and they usually play R two-thirds of the time after an S, \n",
    "    respond with P all of the time.\"\"\"\n",
    "    recent_play = None # TODO: Reassign this variable below to the correct answer.\n",
    "    digraphs = None    # TODO: Reassign this variable below to the correct answer.\n",
    "    followers = None   # TODO: Reassign this variable below to the correct answer.\n",
    "    prediction = None  # TODO: Reassign this variable below to the correct answer.\n",
    "    # YOUR CODE HERE\n",
    "    raise NotImplementedError()\n",
    "    \n",
    "    return ideal_response[prediction]"
   ]
  },
  {
   "cell_type": "code",
   "execution_count": null,
   "metadata": {
    "deletable": false,
    "editable": false,
    "nbgrader": {
     "checksum": "516e9e83a1e2c3ae2d7e13e979389a30",
     "grade": true,
     "grade_id": "cell-f57c09d8ec8e0197",
     "locked": true,
     "points": 4,
     "schema_version": 1,
     "solution": false
    }
   },
   "outputs": [],
   "source": [
    "\"\"\"\n",
    "Test code for digraph_event_greedy function.\n",
    "4 points.\n",
    "This cell should NOT give any errors when it is run.\n",
    "\"\"\"\n",
    "\n",
    "histories = [['R'],\n",
    "             ['R', 'R'],\n",
    "             ['R', 'R', 'P'],\n",
    "             ['R', 'R', 'P', 'S'],\n",
    "            ]\n",
    "n = 100_000\n",
    "\n",
    "for history in histories:\n",
    "    outcomes = [digraph_event_greedy(p1_history=None, p2_history=history) for _ in range(n)]\n",
    "    c = Counter(outcomes)\n",
    "\n",
    "    assert (c['P'] == n) and (c['S'] == 0) and (c['R'] == 0)"
   ]
  },
  {
   "cell_type": "code",
   "execution_count": null,
   "metadata": {
    "deletable": false,
    "nbgrader": {
     "checksum": "5082c33da317ed9e690ad51d88c7d315",
     "grade": false,
     "grade_id": "cell-66ca59c5f03925fc",
     "locked": false,
     "schema_version": 1,
     "solution": true
    }
   },
   "outputs": [],
   "source": [
    "\"\"\"Write a function to digraph_event_proportional.\n",
    "\n",
    "Similar to digraph_event_greedy and single_event_proportional\n",
    "\"\"\"\n",
    "\n",
    "def digraph_event_proportional(p1_history, p2_history):\n",
    "    \"\"\"When opponent's most recent play is S and they usually play R two-thirds of the time after an S, \n",
    "    respond with P two-thirds of the time.\n",
    "    \"\"\"\n",
    "    # YOUR CODE HERE\n",
    "    raise NotImplementedError()\n",
    "    \n",
    "    return ideal_response[prediction]"
   ]
  },
  {
   "cell_type": "code",
   "execution_count": null,
   "metadata": {
    "deletable": false,
    "editable": false,
    "nbgrader": {
     "checksum": "c2d25d2a829d641130949dce316d64ba",
     "grade": true,
     "grade_id": "cell-4644b785ec195e6e",
     "locked": true,
     "points": 4,
     "schema_version": 1,
     "solution": false
    }
   },
   "outputs": [],
   "source": [
    "\"\"\"\n",
    "Test code for digraph_event_proportional function.\n",
    "4 point.\n",
    "This cell should NOT give any errors when it is run.\n",
    "\"\"\"\n",
    "\n",
    "histories = [['R'],\n",
    "             ['R', 'R'],\n",
    "             ['R', 'R', 'R'],\n",
    "            ]\n",
    "n = 100_000\n",
    "\n",
    "for history in histories:\n",
    "    outcomes = [digraph_event_proportional(p1_history=None, p2_history=history) for _ in range(n)]\n",
    "    c = Counter(outcomes)\n",
    "\n",
    "    assert (c['P'] > 0) and (c['S'] > 0) and (c['R'] > 0)\n",
    "    assert c['P']*2 > c['S']\n",
    "    assert c['P']*2 > c['R']"
   ]
  },
  {
   "cell_type": "markdown",
   "metadata": {
    "deletable": false,
    "editable": false,
    "nbgrader": {
     "checksum": "4043da8563d97532330870a8bd309be9",
     "grade": false,
     "grade_id": "cell-fad01f233e71a751",
     "locked": true,
     "schema_version": 1,
     "solution": false
    }
   },
   "source": [
    "Let's the Games Begin\n",
    "----"
   ]
  },
  {
   "cell_type": "code",
   "execution_count": null,
   "metadata": {
    "deletable": false,
    "editable": false,
    "nbgrader": {
     "checksum": "2eb2672f90f759ded178b2e3bd68826e",
     "grade": false,
     "grade_id": "cell-6664b9b1b5a205b7",
     "locked": true,
     "schema_version": 1,
     "solution": false
    }
   },
   "outputs": [],
   "source": [
    "strategies = [random_reply, \n",
    "              single_event_greedy,\n",
    "              single_event_proportional, \n",
    "              digraph_event_greedy,\n",
    "              digraph_event_proportional]"
   ]
  },
  {
   "cell_type": "code",
   "execution_count": null,
   "metadata": {
    "deletable": false,
    "editable": false,
    "nbgrader": {
     "checksum": "2d700720c36f2ec1fdc8edeec44f0059",
     "grade": false,
     "grade_id": "cell-0dc4fb30fdf04f91",
     "locked": true,
     "schema_version": 1,
     "solution": false
    }
   },
   "outputs": [],
   "source": [
    "from typing import Callable, List\n",
    "\n",
    "def play_and_learn(opposition: Callable,        # Opposition's strategy as a function\n",
    "                   strategies: List=strategies, # Agent's possible strategies\n",
    "                   trials: int=1_000, \n",
    "                   verbose: bool=False):\n",
    "    \"Simulate play and see how strategies empirically perform.\"\n",
    "    strategy_range = range(len(strategies))\n",
    "    weights = [1] * len(strategies)\n",
    "    p1_history, p2_history = [], []\n",
    "    cum_score = 0\n",
    "    for trial in range(trials):\n",
    "        # Choose our move based the relative weights\n",
    "        our_moves = [strategy(p1_history, p2_history) for strategy in strategies]\n",
    "        i = choices(strategy_range, weights)[0]\n",
    "        our_move = our_moves[i]\n",
    "\n",
    "        # Get opponent's move\n",
    "        opponent_move = opposition(p2_history, p1_history)\n",
    "\n",
    "        # Determine the winner\n",
    "        score = scorer[our_move + opponent_move]\n",
    "        if verbose:\n",
    "            print(f'{our_move} ~ {opponent_move} = {score:+d}'\n",
    "                  f'\\t\\t{strategies[i].__name__}')\n",
    "        cum_score += score\n",
    "\n",
    "        # Update move history and strategy weights\n",
    "        p1_history.append(our_move)\n",
    "        p2_history.append(opponent_move)\n",
    "        for i, our_move in enumerate(our_moves):\n",
    "            if scorer[our_move + opponent_move] == 1:\n",
    "                weights[i] += 1\n",
    "    print(f'Opposition strategy: {\" \".join(opposition.__name__.title().split(\"_\"))}')            \n",
    "    print('Total score:', cum_score)\n",
    "    print(f\"\\nRelative weights  | Our strategy\")\n",
    "    pprint(sorted([(weight, \" \".join(strategy.__name__.title().split(\"_\"))) for weight, strategy in zip(weights, strategies)]))"
   ]
  },
  {
   "cell_type": "code",
   "execution_count": null,
   "metadata": {
    "deletable": false,
    "editable": false,
    "nbgrader": {
     "checksum": "5234f8e634c62b586afa4be5abbde056",
     "grade": false,
     "grade_id": "cell-b7c308e6235cea7f",
     "locked": true,
     "schema_version": 1,
     "solution": false
    }
   },
   "outputs": [],
   "source": [
    "def fixed_ratio(p1_history, p2_history):\n",
    "    return choices(options, (1, 2, 3))[0]\n",
    "\n",
    "play_and_learn(opposition=fixed_ratio)"
   ]
  },
  {
   "cell_type": "code",
   "execution_count": null,
   "metadata": {
    "deletable": false,
    "editable": false,
    "nbgrader": {
     "checksum": "60e492f4889a5521a2668ca9850ceae9",
     "grade": false,
     "grade_id": "cell-66862b5964193c26",
     "locked": true,
     "schema_version": 1,
     "solution": false
    }
   },
   "outputs": [],
   "source": [
    "play_and_learn(opposition=random_reply)"
   ]
  },
  {
   "cell_type": "code",
   "execution_count": null,
   "metadata": {
    "deletable": false,
    "editable": false,
    "nbgrader": {
     "checksum": "6f8cc95cbc640feb0989a2c40b99eaea",
     "grade": false,
     "grade_id": "cell-ac75533ed22cca99",
     "locked": true,
     "schema_version": 1,
     "solution": false
    }
   },
   "outputs": [],
   "source": [
    "def cycling(series):\n",
    "    iterator = cycle(series)\n",
    "    def cycle_opponent(p1_history, p2_history):\n",
    "        return next(iterator)\n",
    "    return cycle_opponent\n",
    "\n",
    "play_and_learn(opposition=cycling('RPRSS'))"
   ]
  },
  {
   "cell_type": "code",
   "execution_count": null,
   "metadata": {
    "deletable": false,
    "editable": false,
    "nbgrader": {
     "checksum": "90aa8cbd3bb532f4ff4cb415605daacb",
     "grade": false,
     "grade_id": "cell-0107f2438f827ace",
     "locked": true,
     "schema_version": 1,
     "solution": false
    }
   },
   "outputs": [],
   "source": [
    "# If you want, you can play against computer. \n",
    "# Kinda boring - The computer is relentless.\n",
    "\n",
    "# def human(p1_history, p2_history):\n",
    "#     return input(f'Choose one of {options!r}: ')\n",
    "\n",
    "# play_and_learn(opposition=human, trials=10, verbose=True)"
   ]
  },
  {
   "cell_type": "markdown",
   "metadata": {
    "deletable": false,
    "editable": false,
    "nbgrader": {
     "checksum": "3a247ff17d83b2aab11bf4847d981876",
     "grade": false,
     "grade_id": "cell-95e578e765ab279b",
     "locked": true,
     "schema_version": 1,
     "solution": false
    }
   },
   "source": [
    "Summarize what you learned about the strategies for Rock, Paper, Scissors in the next cell.\n",
    "\n",
    "3 points.\n"
   ]
  },
  {
   "cell_type": "markdown",
   "metadata": {
    "deletable": false,
    "nbgrader": {
     "checksum": "37833824e131b724caf4c7149aea08cc",
     "grade": true,
     "grade_id": "cell-7dce1e35b914d651",
     "locked": false,
     "points": 3,
     "schema_version": 1,
     "solution": true
    }
   },
   "source": [
    "YOUR ANSWER HERE"
   ]
  },
  {
   "cell_type": "markdown",
   "metadata": {
    "deletable": false,
    "editable": false,
    "nbgrader": {
     "checksum": "09a2aa8aba527974e6dca328efeb0bce",
     "grade": false,
     "grade_id": "cell-ff2d070e25115ec4",
     "locked": true,
     "schema_version": 1,
     "solution": false
    }
   },
   "source": [
    "<br>\n",
    "<br> \n",
    "<br>\n",
    "\n",
    "----"
   ]
  }
 ],
 "metadata": {
  "anaconda-cloud": {},
  "kernelspec": {
   "display_name": "Python 3",
   "language": "python",
   "name": "python3"
  },
  "language_info": {
   "codemirror_mode": {
    "name": "ipython",
    "version": 3
   },
   "file_extension": ".py",
   "mimetype": "text/x-python",
   "name": "python",
   "nbconvert_exporter": "python",
   "pygments_lexer": "ipython3",
   "version": "3.7.3"
  },
  "toc": {
   "base_numbering": 1,
   "nav_menu": {},
   "number_sections": false,
   "sideBar": true,
   "skip_h1_title": false,
   "title_cell": "Table of Contents",
   "title_sidebar": "Contents",
   "toc_cell": true,
   "toc_position": {},
   "toc_section_display": true,
   "toc_window_display": false
  }
 },
 "nbformat": 4,
 "nbformat_minor": 1
}
