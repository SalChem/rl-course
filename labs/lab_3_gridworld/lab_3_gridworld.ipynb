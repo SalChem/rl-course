{
 "cells": [
  {
   "cell_type": "markdown",
   "metadata": {
    "toc": true
   },
   "source": [
    "<h1>Table of Contents<span class=\"tocSkip\"></span></h1>\n",
    "<div class=\"toc\"><ul class=\"toc-item\"><li><span><a href=\"#Lab:-Gridworld\" data-toc-modified-id=\"Lab:-Gridworld-1\">Lab: Gridworld</a></span></li><li><span><a href=\"#Learning-Outcomes\" data-toc-modified-id=\"Learning-Outcomes-2\">Learning Outcomes</a></span><ul class=\"toc-item\"><li><ul class=\"toc-item\"><li><span><a href=\"#By-the-end-of-this-session,-you-should-be-able-to:\" data-toc-modified-id=\"By-the-end-of-this-session,-you-should-be-able-to:-2.0.1\">By the end of this session, you should be able to:</a></span></li></ul></li></ul></li><li><span><a href=\"#(Grid)-World-Building\" data-toc-modified-id=\"(Grid)-World-Building-3\">(Grid) World Building</a></span></li><li><span><a href=\"#Markov-decision-process-(MDP)-Class\" data-toc-modified-id=\"Markov-decision-process-(MDP)-Class-4\">Markov decision process (MDP) Class</a></span></li><li><span><a href=\"#Value-Iteration-Function\" data-toc-modified-id=\"Value-Iteration-Function-5\">Value Iteration Function</a></span></li></ul></div>"
   ]
  },
  {
   "cell_type": "markdown",
   "metadata": {
    "deletable": false,
    "editable": false,
    "nbgrader": {
     "checksum": "13b025ac8db6d8c018ecb3b5b44bfaa5",
     "grade": false,
     "grade_id": "cell-daaaef17401d0af9",
     "locked": true,
     "schema_version": 1,
     "solution": false
    }
   },
   "source": [
    "Lab: Gridworld\n",
    "-----"
   ]
  },
  {
   "cell_type": "markdown",
   "metadata": {
    "deletable": false,
    "editable": false,
    "nbgrader": {
     "checksum": "f8accb697e3764943a5ca41faff04eac",
     "grade": false,
     "grade_id": "cell-05e3bf336607dfed",
     "locked": true,
     "schema_version": 1,
     "solution": false
    }
   },
   "source": [
    "Learning Outcomes\n",
    "----\n",
    "\n",
    "#### By the end of this session, you should be able to:\n",
    "\n",
    "\n",
    "- Model a gridworld in Python.\n",
    "- Implement the Value Iteration function to calculate the values in a gridworld."
   ]
  },
  {
   "cell_type": "markdown",
   "metadata": {
    "deletable": false,
    "editable": false,
    "nbgrader": {
     "checksum": "d3a48d07a8b3dd3e6e094de31afafed9",
     "grade": false,
     "grade_id": "cell-43a37fbeb60b27b5",
     "locked": true,
     "schema_version": 1,
     "solution": false
    }
   },
   "source": [
    "(Grid) World Building\n",
    "-----"
   ]
  },
  {
   "cell_type": "code",
   "execution_count": null,
   "metadata": {
    "deletable": false,
    "editable": false,
    "nbgrader": {
     "checksum": "73946530c4871287027b8def50982156",
     "grade": false,
     "grade_id": "cell-0aee3860d00beb75",
     "locked": true,
     "schema_version": 1,
     "solution": false
    }
   },
   "outputs": [],
   "source": [
    "reset -fs"
   ]
  },
  {
   "cell_type": "code",
   "execution_count": null,
   "metadata": {
    "deletable": false,
    "nbgrader": {
     "checksum": "f1e61d60e8bb7db013dadb9fa529bb52",
     "grade": false,
     "grade_id": "cell-b7cf369eee91207f",
     "locked": false,
     "schema_version": 1,
     "solution": true
    }
   },
   "outputs": [],
   "source": [
    "\"\"\"Create the create gridworld from lecture as a lists-of-lists.\n",
    "Add reward values for each cell.\n",
    "Use `None` for an obstacle / unreachable state. \n",
    "\"\"\"\n",
    "\n",
    "warehouse = []\n",
    "\n",
    "# YOUR CODE HERE\n",
    "raise NotImplementedError()"
   ]
  },
  {
   "cell_type": "code",
   "execution_count": null,
   "metadata": {
    "deletable": false,
    "editable": false,
    "nbgrader": {
     "checksum": "c8e2a828976c70798fd34b87e6213ba4",
     "grade": true,
     "grade_id": "cell-bf5d4b9fdbe3856b",
     "locked": true,
     "points": 4,
     "schema_version": 1,
     "solution": false
    }
   },
   "outputs": [],
   "source": [
    "\"\"\"\n",
    "Test code for warehouse data structure.\n",
    "4 points.\n",
    "This cell should NOT give any errors when it is run.\n",
    "\"\"\"\n",
    "\n",
    "assert len(warehouse) == 3 # Number of rows\n",
    "assert [len(row) for row in warehouse] == [4, 4, 4] # Number of columns in each row\n",
    "assert [\"Found a None\" for row in warehouse if None in row] == [\"Found a None\"] # Check for a single None\n",
    "assert [sum(row) for row in warehouse if None not in row] == [0.88, -0.16] # For complete rows\n",
    "assert [max(row) for row in warehouse if None not in row] == [1, -0.04] # For complete rows\n",
    "assert [sum(row) for row in list(map(list, zip(*warehouse))) if None not in row] == [-0.12, -0.12, -0.04] # For complete columns\n",
    "assert [min(row) for row in list(map(list, zip(*warehouse))) if None not in row] == [-0.04, -0.04, -1] # For complete columns"
   ]
  },
  {
   "cell_type": "markdown",
   "metadata": {
    "deletable": false,
    "editable": false,
    "nbgrader": {
     "checksum": "3362fa5219c75303caccc3ffc4b627cc",
     "grade": false,
     "grade_id": "cell-5bf80f8f11c519d3",
     "locked": true,
     "schema_version": 1,
     "solution": false
    }
   },
   "source": [
    "Markov decision process (MDP) Class\n",
    "------\n",
    "\n",
    "A Markov decision process (MDP) class for a two-dimensional grid has been implemented for you.\n",
    "\n",
    "Please read carefully through it"
   ]
  },
  {
   "cell_type": "code",
   "execution_count": null,
   "metadata": {
    "code_folding": [
     31,
     41,
     49,
     52,
     55,
     58,
     61,
     66
    ],
    "deletable": false,
    "editable": false,
    "nbgrader": {
     "checksum": "bd44b98805fcec0e347420cac96b3fc5",
     "grade": false,
     "grade_id": "cell-fe056b8caa83d8f1",
     "locked": true,
     "schema_version": 1,
     "solution": false
    }
   },
   "outputs": [],
   "source": [
    "class MarkovDecisionProcess():\n",
    "    \"A two-dimensional grid Markov decision process (MDP).\"\n",
    "\n",
    "    def __init__(self, grid, terminals, gamma=1):\n",
    "        grid.reverse() # Row 0 is on bottom, not on top; The difference between gridworld and Python\n",
    "        self.grid = grid\n",
    "        self.terminals = terminals\n",
    "        self.gamma = gamma\n",
    "        self.n_rows = len(grid)\n",
    "        self.n_cols = len(grid[0])\n",
    "\n",
    "        states = set()\n",
    "        reward = {}\n",
    "        for x in range(self.n_cols):\n",
    "            for y in range(self.n_rows):\n",
    "                if grid[y][x]:\n",
    "                    states.add((x, y))\n",
    "                    reward[(x, y)] = grid[y][x]\n",
    "                else:\n",
    "                    reward[(x, y)] = None\n",
    "        self.reward = reward\n",
    "        self.states = states\n",
    "        \n",
    "        self.actlist = [(1, 0), (0, 1), (-1, 0), (0, -1)] # An action is an (x, y) unit vector; e.g. (1, 0) means move east.\n",
    "        \n",
    "        transitions = {}\n",
    "        for s in states:\n",
    "            transitions[s] = {}\n",
    "            for a in self.actlist:\n",
    "                transitions[s][a] = self.calculate_t(s, a)\n",
    "        self.transitions=transitions\n",
    "        \n",
    "    def actions(self, state):\n",
    "        \"\"\"Return a list of actions that can be performed in this state. By default, a\n",
    "        fixed list of actions, except for terminal states. Override this\n",
    "        method if you need to specialize by state.\"\"\"\n",
    "\n",
    "        if state in self.terminals:\n",
    "            return [None]\n",
    "        else:\n",
    "            return self.actlist\n",
    "\n",
    "    def calculate_t(self, state, action):\n",
    "        \"Caculate the transition, including probability of not completing intended action.\"\n",
    "        if action:\n",
    "            return [(0.8, self.go(state, action)), # Intended\n",
    "                    (0.1, self.go(state, self.turn_right(action))), # Error\n",
    "                    (0.1, self.go(state, self.turn_left(action)))]  # Error\n",
    "        else:\n",
    "            return [(0.0, state)]\n",
    "    \n",
    "    def t(self, state, action):\n",
    "        return self.transitions[state][action] if action else [(0.0, state)]\n",
    "    \n",
    "    def turn_heading(self, heading, inc, headings=[(1, 0), (0, 1), (-1, 0), (0, -1)]):\n",
    "        return headings[(headings.index(heading) + inc) % len(headings)]\n",
    "\n",
    "    def turn_right(self, heading):\n",
    "        return self.turn_heading(heading, -1)\n",
    "\n",
    "    def turn_left(self, heading):\n",
    "        return self.turn_heading(heading, +1)\n",
    "\n",
    "    def get_reward(self, state):\n",
    "        \"Return a numeric reward for this state.\"\n",
    "        return self.reward[state]\n",
    " \n",
    "    def go(self, state, direction):\n",
    "        \"Return the state that results from going in this direction.\"\n",
    "        state1 = tuple(map(lambda x, y: x+y, state, direction))\n",
    "        return state1 if state1 in self.states else state\n"
   ]
  },
  {
   "cell_type": "code",
   "execution_count": null,
   "metadata": {
    "deletable": false,
    "nbgrader": {
     "checksum": "ba0a93e7918c781bae96a1ca6a6c0947",
     "grade": true,
     "grade_id": "cell-9b30ea71c3de966f",
     "locked": false,
     "points": 0,
     "schema_version": 1,
     "solution": true
    }
   },
   "outputs": [],
   "source": [
    "# YOUR CODE HERE\n",
    "raise NotImplementedError()"
   ]
  },
  {
   "cell_type": "markdown",
   "metadata": {
    "deletable": false,
    "editable": false,
    "nbgrader": {
     "checksum": "badefcc7af9031a664dbd52f1b91f3d0",
     "grade": false,
     "grade_id": "cell-fcf1d9de4729d2e2",
     "locked": true,
     "schema_version": 1,
     "solution": false
    }
   },
   "source": [
    "Value Iteration Function\n",
    "----"
   ]
  },
  {
   "cell_type": "code",
   "execution_count": null,
   "metadata": {
    "deletable": false,
    "nbgrader": {
     "checksum": "05b8377664845055095d12e04a859451",
     "grade": false,
     "grade_id": "cell-c0e99e2c9f78f178",
     "locked": false,
     "schema_version": 1,
     "solution": true
    }
   },
   "outputs": [],
   "source": [
    "\"\"\"Write value iteration function to solve mdp.\n",
    "\n",
    "See lecture notes for pseudocode.\n",
    "\"\"\"\n",
    "\n",
    "def value_iteration(mdp, epsilon=0.001)->dict:\n",
    "    \"Solve an MDP by value iteration.\"\n",
    "    # YOUR CODE HERE\n",
    "    raise NotImplementedError()"
   ]
  },
  {
   "cell_type": "code",
   "execution_count": null,
   "metadata": {
    "deletable": false,
    "editable": false,
    "nbgrader": {
     "checksum": "f0261bcaabdd86c83c7537ada86389e6",
     "grade": true,
     "grade_id": "cell-0257007adfa31dbb",
     "locked": true,
     "points": 1,
     "schema_version": 1,
     "solution": false
    }
   },
   "outputs": [],
   "source": [
    "\"\"\"\n",
    "Test code for value_iteration function.\n",
    "1 point for correctly formatting answer.\n",
    "This cell should NOT give any errors when it is run.\n",
    "\"\"\"\n",
    "\n",
    "mdp_values = value_iteration(warehouse_mdp)\n",
    "assert type(mdp_values) == dict\n",
    "assert len(mdp_values.keys()) == 11\n",
    "assert sorted(mdp_values.keys()) == [\\\n",
    " (0, 0),\n",
    " (0, 1),\n",
    " (0, 2),\n",
    " (1, 0),\n",
    " (1, 2),\n",
    " (2, 0),\n",
    " (2, 1),\n",
    " (2, 2),\n",
    " (3, 0),\n",
    " (3, 1),\n",
    " (3, 2)\n",
    "]"
   ]
  },
  {
   "cell_type": "code",
   "execution_count": null,
   "metadata": {
    "deletable": false,
    "editable": false,
    "nbgrader": {
     "checksum": "9b2286e228fdb57f61c2bb4433c9369c",
     "grade": true,
     "grade_id": "cell-ac4f0b7d4152658b",
     "locked": true,
     "points": 1,
     "schema_version": 1,
     "solution": false
    }
   },
   "outputs": [],
   "source": [
    "\"\"\"\n",
    "Test code for value_iteration function.\n",
    "1 point for not changing terminal states.\n",
    "This cell should NOT give any errors when it is run.\n",
    "\"\"\"\n",
    "mdp_values = value_iteration(warehouse_mdp)\n",
    "assert mdp_values[(3, 1)] == -1.0\n",
    "assert mdp_values[(3, 2)] == 1.0"
   ]
  },
  {
   "cell_type": "code",
   "execution_count": null,
   "metadata": {
    "deletable": false,
    "editable": false,
    "nbgrader": {
     "checksum": "6cfdd61ddc904937210d226575133a34",
     "grade": true,
     "grade_id": "cell-569c829cb5cd6555",
     "locked": true,
     "points": 1,
     "schema_version": 1,
     "solution": false
    }
   },
   "outputs": [],
   "source": [
    "\"\"\"\n",
    "Test code for value_iteration function.\n",
    "1 point for NOT calcuting value for unreachable state.\n",
    "This cell should NOT give any errors when it is run.\n",
    "\"\"\"\n",
    "mdp_values = value_iteration(warehouse_mdp)\n",
    "try: \n",
    "    mdp_values[(1, 1)] # Look for key that should not be there\n",
    "    assert False\n",
    "except KeyError:\n",
    "    assert True"
   ]
  },
  {
   "cell_type": "code",
   "execution_count": null,
   "metadata": {
    "deletable": false,
    "editable": false,
    "nbgrader": {
     "checksum": "2a632bed4c48d651a96d6eef7f9ab75b",
     "grade": true,
     "grade_id": "cell-3ec0b8efc5f2204c",
     "locked": true,
     "points": 5,
     "schema_version": 1,
     "solution": false
    }
   },
   "outputs": [],
   "source": [
    "\"\"\"\n",
    "Test code for value_iteration function.\n",
    "5 points for correct answer with generous rounding.\n",
    "This cell should NOT give any errors when it is run.\n",
    "\"\"\"\n",
    "\n",
    "expected_values = {\\\n",
    " (0, 0): 0.7053082191780823,\n",
    " (0, 1): 0.7615582191780823,\n",
    " (0, 2): 0.8115582191780822,\n",
    " (1, 0): 0.6553082191780822,\n",
    " (1, 2): 0.8678082191780823,\n",
    " (2, 0): 0.6114155251141552,\n",
    " (2, 1): 0.6602739726027398,\n",
    " (2, 2): 0.9178082191780822,\n",
    " (3, 0): 0.3879249112125825,\n",
    " (3, 1): -1.0,\n",
    " (3, 2): 1.0}\n",
    "\n",
    "computed_values = dict(sorted(value_iteration(warehouse_mdp, epsilon=1).items())) # Sort solution for quick visual inspection\n",
    "rounded_computed_values = {k: round(v, 2) for k,v in computed_values.items()}\n",
    "rounded_expected_values = {k: round(v, 2) for k,v in expected_values.items()}\n",
    "assert rounded_computed_values == rounded_expected_values"
   ]
  },
  {
   "cell_type": "code",
   "execution_count": null,
   "metadata": {
    "deletable": false,
    "editable": false,
    "nbgrader": {
     "checksum": "41fd9339d23ae1e944a35b9e38ba6ee1",
     "grade": true,
     "grade_id": "cell-1f07d2a13bc3428d",
     "locked": true,
     "points": 10,
     "schema_version": 1,
     "solution": false
    }
   },
   "outputs": [],
   "source": [
    "\"\"\"\n",
    "Test code for value_iteration function.\n",
    "10 points for precisely correct answer.\n",
    "This cell should NOT give any errors when it is run.\n",
    "\"\"\"\n",
    "\n",
    "expected_values = {\\\n",
    " (0, 0): 0.7053082191780823,\n",
    " (0, 1): 0.7615582191780823,\n",
    " (0, 2): 0.8115582191780822,\n",
    " (1, 0): 0.6553082191780822,\n",
    " (1, 2): 0.8678082191780823,\n",
    " (2, 0): 0.6114155251141552,\n",
    " (2, 1): 0.6602739726027398,\n",
    " (2, 2): 0.9178082191780822,\n",
    " (3, 0): 0.3879249112125825,\n",
    " (3, 1): -1.0,\n",
    " (3, 2): 1.0}\n",
    "\n",
    "computed_values = dict(sorted(value_iteration(warehouse_mdp, epsilon=1).items())) # Sort solution for quick visual inspection\n",
    "assert rounded_computed_values == rounded_expected_values"
   ]
  },
  {
   "cell_type": "markdown",
   "metadata": {
    "deletable": false,
    "editable": false,
    "nbgrader": {
     "checksum": "1bd5fc656680156a79238f84f4fff45f",
     "grade": false,
     "grade_id": "cell-8c68438c4e4d0ce3",
     "locked": true,
     "schema_version": 1,
     "solution": false
    }
   },
   "source": [
    "<br>\n",
    "<br> \n",
    "<br>\n",
    "\n",
    "----"
   ]
  }
 ],
 "metadata": {
  "kernelspec": {
   "display_name": "Python 3",
   "language": "python",
   "name": "python3"
  },
  "language_info": {
   "codemirror_mode": {
    "name": "ipython",
    "version": 3
   },
   "file_extension": ".py",
   "mimetype": "text/x-python",
   "name": "python",
   "nbconvert_exporter": "python",
   "pygments_lexer": "ipython3",
   "version": "3.7.3"
  },
  "toc": {
   "base_numbering": 1,
   "nav_menu": {},
   "number_sections": false,
   "sideBar": false,
   "skip_h1_title": false,
   "title_cell": "Table of Contents",
   "title_sidebar": "Contents",
   "toc_cell": true,
   "toc_position": {},
   "toc_section_display": true,
   "toc_window_display": false
  }
 },
 "nbformat": 4,
 "nbformat_minor": 2
}
