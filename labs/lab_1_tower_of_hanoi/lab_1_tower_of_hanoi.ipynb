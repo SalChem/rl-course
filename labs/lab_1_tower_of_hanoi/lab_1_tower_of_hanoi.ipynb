{
 "cells": [
  {
   "cell_type": "markdown",
   "metadata": {
    "deletable": false,
    "editable": false,
    "nbgrader": {
     "checksum": "7ca964af30cb4104d8e42afcdab615b3",
     "grade": false,
     "grade_id": "cell-f49b8ea35a2dabd9",
     "locked": true,
     "schema_version": 1,
     "solution": false
    },
    "toc": true
   },
   "source": [
    "<h1>Table of Contents<span class=\"tocSkip\"></span></h1>\n",
    "<div class=\"toc\"><ul class=\"toc-item\"><li><span><a href=\"#Lab:-Tower-of-Hanoi\" data-toc-modified-id=\"Lab:-Tower-of-Hanoi-1\">Lab: Tower of Hanoi</a></span></li><li><span><a href=\"#By-The-End-Of-This-Lab-You-Should-Be-Able-To\" data-toc-modified-id=\"By-The-End-Of-This-Lab-You-Should-Be-Able-To-2\">By The End Of This Lab You Should Be Able To</a></span></li><li><span><a href=\"#Code\" data-toc-modified-id=\"Code-3\">Code</a></span></li><li><span><a href=\"#Hints\" data-toc-modified-id=\"Hints-4\">Hints</a></span></li><li><span><a href=\"#Tests\" data-toc-modified-id=\"Tests-5\">Tests</a></span></li></ul></div>"
   ]
  },
  {
   "cell_type": "markdown",
   "metadata": {
    "deletable": false,
    "editable": false,
    "nbgrader": {
     "checksum": "a0e46b838b95eb8dee93569a88362335",
     "grade": false,
     "grade_id": "cell-588eb434a3567ee2",
     "locked": true,
     "schema_version": 1,
     "solution": false
    }
   },
   "source": [
    "Lab: Tower of Hanoi\n",
    "-----"
   ]
  },
  {
   "cell_type": "markdown",
   "metadata": {
    "deletable": false,
    "editable": false,
    "nbgrader": {
     "checksum": "020fa6b143155798c02e5a14b2277129",
     "grade": false,
     "grade_id": "cell-5cc85b93d38670f4",
     "locked": true,
     "schema_version": 1,
     "solution": false
    }
   },
   "source": [
    "By The End Of This Lab You Should Be Able To\n",
    "----\n",
    "\n",
    "- Solve the Tower of Hanoi game with recursion\n",
    "- Submit lab solutions with nbgrader"
   ]
  },
  {
   "cell_type": "markdown",
   "metadata": {
    "deletable": false,
    "editable": false,
    "nbgrader": {
     "checksum": "c64535f83ef0c5eb91372a17be1884cf",
     "grade": false,
     "grade_id": "cell-cf511f31040e6571",
     "locked": true,
     "schema_version": 1,
     "solution": false
    }
   },
   "source": [
    "Code\n",
    "-----"
   ]
  },
  {
   "cell_type": "code",
   "execution_count": null,
   "metadata": {
    "deletable": false,
    "editable": false,
    "nbgrader": {
     "checksum": "89568de670d8936b162de23fc95062ad",
     "grade": false,
     "grade_id": "cell-b3989d3eb2c9086b",
     "locked": true,
     "schema_version": 1,
     "solution": false
    }
   },
   "outputs": [],
   "source": [
    "reset -fs"
   ]
  },
  {
   "cell_type": "code",
   "execution_count": null,
   "metadata": {
    "code_folding": [],
    "deletable": false,
    "nbgrader": {
     "checksum": "1181e5f5a00be4595d00d9a9a3954ef6",
     "grade": false,
     "grade_id": "cell-d89c48480247256d",
     "locked": false,
     "schema_version": 1,
     "solution": true
    }
   },
   "outputs": [],
   "source": [
    "\"Write a function to Tower of Hanoi with recursion\"\n",
    "\n",
    "def hanoi(n_disks=3, from_rod='left', to_rod='right', aux_rod='middle'): \n",
    "    \"Solve Tower of Hanoi recursively\"\n",
    "    \n",
    "    # Print state for autograding; DO NOT DELETE\n",
    "    print(n_disks)\n",
    "    \n",
    "    # YOUR CODE HERE\n",
    "    raise NotImplementedError()\n",
    "    \n",
    "    return \"Tower of Hanoi solved 🗼🙂\"\n"
   ]
  },
  {
   "cell_type": "markdown",
   "metadata": {
    "deletable": false,
    "editable": false,
    "nbgrader": {
     "checksum": "e1d09715c4dab4e7bdb473d222aaa4bb",
     "grade": false,
     "grade_id": "cell-9241d0f017935717",
     "locked": true,
     "schema_version": 1,
     "solution": false
    }
   },
   "source": [
    "Hints\n",
    "-----\n",
    "\n",
    "-----\n",
    "\n",
    "Brian's solution is 3 lines (not including comments and print statements). \n",
    "\n",
    "Your solution can be longer.\n",
    "\n",
    "----\n",
    "\n",
    "[Python Tutor can help you visualize the state of your code](http://www.pythontutor.com/visualize.html#mode=edit)\n",
    "\n",
    "-----\n",
    "\n",
    "If you put this print statement in your function:\n",
    "\n",
    "```python\n",
    "print(f\"Move disk {n_disks} from {from_rod} rod to {to_rod} rod.\")\n",
    "```\n",
    "\n",
    "Your output should be something like this:\n",
    "\n",
    "```\n",
    "hanoi(n_disks=1)\n",
    "Move disk 1 from left rod to right rod.\n",
    "\n",
    "hanoi(n_disks=2)\n",
    "Move disk 1 from left rod to middle rod.\n",
    "Move disk 2 from left rod to right rod.\n",
    "Move disk 1 from middle rod to right rod.\n",
    "\n",
    "hanoi(n_disks=3)\n",
    "Move disk 1 from left rod to right rod.\n",
    "Move disk 2 from left rod to middle rod.\n",
    "Move disk 1 from right rod to middle rod.\n",
    "Move disk 3 from left rod to right rod.\n",
    "Move disk 1 from middle rod to left rod.\n",
    "Move disk 2 from middle rod to right rod.\n",
    "Move disk 1 from left rod to right rod.\n",
    "```\n",
    "\n",
    "__Remember to remove this print statement before submitting assignment__"
   ]
  },
  {
   "cell_type": "markdown",
   "metadata": {
    "deletable": false,
    "editable": false,
    "nbgrader": {
     "checksum": "e32ffd71b708f3479f3be3881035d8d3",
     "grade": false,
     "grade_id": "cell-bb8d48647ccb0084",
     "locked": true,
     "schema_version": 1,
     "solution": false
    }
   },
   "source": [
    "Tests\n",
    "-----"
   ]
  },
  {
   "cell_type": "code",
   "execution_count": null,
   "metadata": {
    "code_folding": [
     9,
     12,
     30
    ],
    "deletable": false,
    "editable": false,
    "nbgrader": {
     "checksum": "bd270082e925988849088a0ba7f85186",
     "grade": true,
     "grade_id": "cell-be8a34383a4857ce",
     "locked": true,
     "points": 3,
     "schema_version": 1,
     "solution": false
    }
   },
   "outputs": [],
   "source": [
    "\"\"\"\n",
    "Test code for hanoi function.\n",
    "3 points for using recursion.\n",
    "This cell should NOT give any errors when it is run.\n",
    "\"\"\"\n",
    "\n",
    "from bdb import Bdb\n",
    "import sys\n",
    "\n",
    "class RecursionDetected(Exception):\n",
    "    pass\n",
    "\n",
    "class RecursionDetector(Bdb):\n",
    "    \"From: https://stackoverflow.com/questions/36662181/is-there-a-way-to-check-if-function-is-recursive-in-python\"\n",
    "    def do_clear(self, arg):\n",
    "        pass\n",
    "\n",
    "    def __init__(self, *args):\n",
    "        Bdb.__init__(self, *args)\n",
    "        self.stack = set()\n",
    "\n",
    "    def user_call(self, frame, argument_list):\n",
    "        code = frame.f_code\n",
    "        if code in self.stack:\n",
    "            raise RecursionDetected\n",
    "        self.stack.add(code)\n",
    "\n",
    "    def user_return(self, frame, return_value):\n",
    "        self.stack.remove(frame.f_code)\n",
    "\n",
    "def test_recursion(func):\n",
    "    detector = RecursionDetector()\n",
    "    detector.set_trace()\n",
    "    try:\n",
    "        func()\n",
    "    except RecursionDetected:\n",
    "        return True\n",
    "    else:\n",
    "        return False\n",
    "    finally:\n",
    "        sys.settrace(None)\n",
    "        \n",
    "# Test if function is recursive\n",
    "assert test_recursion(lambda: hanoi(n_disks=1))\n",
    "assert test_recursion(lambda: hanoi(n_disks=2))\n",
    "assert test_recursion(lambda: hanoi(n_disks=3))"
   ]
  },
  {
   "cell_type": "code",
   "execution_count": null,
   "metadata": {
    "code_folding": [
     9
    ],
    "deletable": false,
    "editable": false,
    "nbgrader": {
     "checksum": "46210a73b263a5d0dbc364d79eaa6bda",
     "grade": true,
     "grade_id": "cell-811a7b634c7694da",
     "locked": true,
     "points": 6,
     "schema_version": 1,
     "solution": false
    }
   },
   "outputs": [],
   "source": [
    "\"\"\"\n",
    "Test code for hanoi function.\n",
    "6 points for optimal number of steps.\n",
    "This cell should NOT give any errors when it is run.\n",
    "\"\"\"\n",
    "\n",
    "from io import StringIO\n",
    "import sys\n",
    "\n",
    "class Capturing(list):\n",
    "    \"From: https://stackoverflow.com/questions/16571150/how-to-capture-stdout-output-from-a-python-function-call\"\n",
    "    \n",
    "    def __enter__(self):\n",
    "        self._stdout = sys.stdout\n",
    "        sys.stdout = self._stringio = StringIO()\n",
    "        return self\n",
    "    \n",
    "    def __exit__(self, *args):\n",
    "        self.extend(self._stringio.getvalue().splitlines())\n",
    "        del self._stringio    # free up some memory\n",
    "        sys.stdout = self._stdout\n",
    "\n",
    "\n",
    "# n_disks=1        \n",
    "with Capturing() as output:\n",
    "    hanoi(n_disks=1)\n",
    "    \n",
    "assert output == ['1', '0', '0'] \n",
    "\"\"\"Note: \n",
    "There are extra moves with \"0\" discs.\n",
    "We could prevent the zeros by adding a conditional that prevents their execution. That conditional is not required for this lab.\n",
    "I want to focus just on the recursive logic. Those zeros are clues to the recursive logic required to solve this game.\n",
    "\"\"\"\n",
    "# Test for optimality after filtering out zeros\n",
    "assert len([m for m in output if m != '0']) == 1\n",
    "\n",
    "# n_disks=2\n",
    "with Capturing() as output:\n",
    "    hanoi(n_disks=2)\n",
    "assert output == ['2', '1', '0', '0', '1', '0', '0']\n",
    "# Test for optimality after filtering out zeros\n",
    "assert len([m for m in output if m != '0']) == 3\n",
    "\n",
    "# n_disks=3\n",
    "with Capturing() as output:\n",
    "    hanoi(n_disks=3)\n",
    "assert output == ['3', '2', '1', '0', '0', '1', '0', '0', '2', '1', '0', '0', '1', '0', '0']\n",
    "# Test for optimality after filtering out zeros\n",
    "assert len([m for m in output if m != '0']) == 7"
   ]
  },
  {
   "cell_type": "markdown",
   "metadata": {
    "deletable": false,
    "editable": false,
    "nbgrader": {
     "checksum": "09a2aa8aba527974e6dca328efeb0bce",
     "grade": false,
     "grade_id": "cell-ff2d070e25115ec4",
     "locked": true,
     "schema_version": 1,
     "solution": false
    }
   },
   "source": [
    "<br>\n",
    "<br> \n",
    "<br>\n",
    "\n",
    "----"
   ]
  }
 ],
 "metadata": {
  "anaconda-cloud": {},
  "kernelspec": {
   "display_name": "Python 3",
   "language": "python",
   "name": "python3"
  },
  "language_info": {
   "codemirror_mode": {
    "name": "ipython",
    "version": 3
   },
   "file_extension": ".py",
   "mimetype": "text/x-python",
   "name": "python",
   "nbconvert_exporter": "python",
   "pygments_lexer": "ipython3",
   "version": "3.7.3"
  },
  "toc": {
   "base_numbering": 1,
   "nav_menu": {},
   "number_sections": false,
   "sideBar": true,
   "skip_h1_title": false,
   "title_cell": "Table of Contents",
   "title_sidebar": "Contents",
   "toc_cell": true,
   "toc_position": {},
   "toc_section_display": true,
   "toc_window_display": false
  }
 },
 "nbformat": 4,
 "nbformat_minor": 1
}
